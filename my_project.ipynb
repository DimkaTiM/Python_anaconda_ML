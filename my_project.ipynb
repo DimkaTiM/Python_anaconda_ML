{
 "cells": [
  {
   "cell_type": "code",
   "execution_count": 3,
   "metadata": {
    "colab": {},
    "colab_type": "code",
    "id": "7Lgwt8kem6Io"
   },
   "outputs": [
    {
     "ename": "ModuleNotFoundError",
     "evalue": "No module named 'wget'",
     "output_type": "error",
     "traceback": [
      "\u001b[0;31m---------------------------------------------------------------------------\u001b[0m",
      "\u001b[0;31mModuleNotFoundError\u001b[0m                       Traceback (most recent call last)",
      "\u001b[0;32m<ipython-input-3-1045a2711a77>\u001b[0m in \u001b[0;36m<module>\u001b[0;34m()\u001b[0m\n\u001b[1;32m      1\u001b[0m \u001b[0;32mimport\u001b[0m \u001b[0mner\u001b[0m\u001b[0;34m\u001b[0m\u001b[0m\n\u001b[0;32m----> 2\u001b[0;31m \u001b[0;32mimport\u001b[0m \u001b[0mwget\u001b[0m\u001b[0;34m\u001b[0m\u001b[0m\n\u001b[0m\u001b[1;32m      3\u001b[0m \u001b[0;32mimport\u001b[0m \u001b[0mgensim\u001b[0m\u001b[0;34m\u001b[0m\u001b[0m\n\u001b[1;32m      4\u001b[0m \u001b[0;32mimport\u001b[0m \u001b[0mrequests\u001b[0m\u001b[0;34m\u001b[0m\u001b[0m\n\u001b[1;32m      5\u001b[0m \u001b[0;32mimport\u001b[0m \u001b[0mpymorphy2\u001b[0m\u001b[0;34m\u001b[0m\u001b[0m\n",
      "\u001b[0;31mModuleNotFoundError\u001b[0m: No module named 'wget'"
     ]
    }
   ],
   "source": [
    "import ner\n",
    "import wget\n",
    "import gensim\n",
    "import requests\n",
    "import pymorphy2\n",
    "from bs4 import BeautifulSoup\n",
    "from nltk.corpus import stopwords, RegexpTokenizer"
   ]
  },
  {
   "cell_type": "code",
   "execution_count": 2,
   "metadata": {
    "colab": {},
    "colab_type": "code",
    "id": "SwF-dw6zm6Is"
   },
   "outputs": [],
   "source": [
    "def get_article_text(link):\n",
    "    text = \"\"\n",
    "    response = requests.get(link)\n",
    "    soup = BeautifulSoup(response.text, 'html.parser')\n",
    "    text = soup.find(\"div\", {\"class\": \"news-text\"}).text.replace(\"\\t\", \"\").replace(\"\\r\", \"\").replace(\"\\n\", \"\").replace(\"\\xa0\", \" \").strip()\n",
    "    return text"
   ]
  },
  {
   "cell_type": "code",
   "execution_count": 0,
   "metadata": {
    "colab": {},
    "colab_type": "code",
    "id": "h3iGhKeTm6Iw"
   },
   "outputs": [],
   "source": [
    "def word_list(text):\n",
    "    morph = pymorphy2.MorphAnalyzer()\n",
    "    stop_words = stopwords.words(\"russian\")\n",
    "    tokenizer = RegexpTokenizer(r'[\\w\\d]+')\n",
    "    words = tokenizer.tokenize(text)           \n",
    "    filtered_sentence = [w for w in words if not w in stop_words]\n",
    "    sentence = [morph.parse(ent) for ent in filtered_sentence]\n",
    "    result = []\n",
    "    for ent in sentence:\n",
    "      if ent[0].tag.POS == \"NOUN\":\n",
    "        result.append(ent[0].normal_form)\n",
    "      elif 'NUMB' in ent[0].tag:\n",
    "        result.append(ent[0].word)\n",
    "    return result"
   ]
  },
  {
   "cell_type": "code",
   "execution_count": 0,
   "metadata": {
    "colab": {},
    "colab_type": "code",
    "id": "NojZZssrm6Iy"
   },
   "outputs": [],
   "source": [
    "def model_init():\n",
    "    model_url = 'http://rusvectores.org/static/models/rusvectores4/taiga/taiga_upos_skipgram_300_2_2018.vec.gz'\n",
    "    modelfile = wget.download(model_url)\n",
    "    m = 'taiga_upos_skipgram_300_2_2018.vec.gz'\n",
    "    if m.endswith('.vec.gz'):\n",
    "        model = gensim.models.KeyedVectors.load_word2vec_format(m, binary=False)\n",
    "    elif m.endswith('.bin.gz'):\n",
    "        model = gensim.models.KeyedVectors.load_word2vec_format(m, binary=True)\n",
    "    else:\n",
    "        model = gensim.models.Word2Vec.load(m)\n",
    "    model.init_sims(replace=True)\n",
    "    return model"
   ]
  },
  {
   "cell_type": "code",
   "execution_count": 0,
   "metadata": {
    "colab": {},
    "colab_type": "code",
    "id": "nFb3wyyEqEUb"
   },
   "outputs": [],
   "source": [
    "def get_similar(words):\n",
    "    s = []\n",
    "    for ent in words:\n",
    "        try:\n",
    "            similar = model.most_similar(ent)\n",
    "            s.append(similar)\n",
    "        except:\n",
    "            s.append(ent)\n",
    "    return s"
   ]
  },
  {
   "cell_type": "code",
   "execution_count": 0,
   "metadata": {
    "colab": {},
    "colab_type": "code",
    "id": "8IQs-glLqBDg"
   },
   "outputs": [],
   "source": [
    "model = model_init()"
   ]
  },
  {
   "cell_type": "code",
   "execution_count": 0,
   "metadata": {
    "colab": {},
    "colab_type": "code",
    "id": "EZWsQS_Cp6_Q"
   },
   "outputs": [],
   "source": [
    "def init(LINK):\n",
    "  text = get_article_text(LINK)\n",
    "  words = list(set(word_list(text)))\n",
    "  entity = []\n",
    "  for ent in words:\n",
    "    if ent.isalpha():  \n",
    "      entity.append(ent + \"_NOUN\")\n",
    "    else:\n",
    "      entity.append(ent)\n",
    "  similar = get_similar(entity)\n",
    "  return text, words, similar"
   ]
  },
  {
   "cell_type": "code",
   "execution_count": 582,
   "metadata": {
    "colab": {
     "base_uri": "https://localhost:8080/",
     "height": 34
    },
    "colab_type": "code",
    "id": "7VKgms_3BcjJ",
    "outputId": "013c6815-dad0-4521-dd50-00e49a411020"
   },
   "outputs": [
    {
     "name": "stdout",
     "output_type": "stream",
     "text": [
      "23\n"
     ]
    }
   ],
   "source": [
    "tmp_str = \"http://firrma.ru/projects/reyting_angelov_2016/,http://firrma.ru/data/news/123897/,http://firrma.ru/data/news/98600/,http://firrma.ru/data/news/98713/,http://firrma.ru/data/news/98838/,http://firrma.ru/data/news/99026/,http://firrma.ru/data/news/99477/,http://firrma.ru/data/news/99629/,http://firrma.ru/data/news/99667/,http://firrma.ru/data/news/99626/,http://firrma.ru/data/news/99929/,http://firrma.ru/data/news/100092/,http://firrma.ru/data/news/101173/,http://firrma.ru/data/news/101168/,http://firrma.ru/data/news/101557/,http://firrma.ru/data/news/102446/,http://firrma.ru/data/news/102624/,http://firrma.ru/data/news/102624/,http://firrma.ru/data/news/102624/,http://firrma.ru/data/news/102624/,http://firrma.ru/data/news/102624/,http://firrma.ru/data/news/102624/,http://firrma.ru/data/news/102624/,http://firrma.ru/data/news/102624/,http://firrma.ru/data/news/102624/,http://firrma.ru/data/news/102624/,http://firrma.ru/data/news/102624/,http://firrma.ru/data/news/102624/,http://firrma.ru/data/news/102624/,http://firrma.ru/data/news/102698/,http://firrma.ru/data/news/102624/,http://firrma.ru/data/news/102624/,http://firrma.ru/data/news/102624/,http://firrma.ru/data/news/102624/,http://firrma.ru/data/news/102624/,http://firrma.ru/data/news/102624/,http://firrma.ru/data/news/102624/,http://firrma.ru/data/news/102624/,http://firrma.ru/data/news/102624/,http://firrma.ru/data/news/102768/,http://firrma.ru/data/news/103066/,http://firrma.ru/data/news/103069/,http://firrma.ru/data/news/111383/,http://firrma.ru/data/news/123897/,http://firrma.ru/data/news/103216/,http://firrma.ru/data/news/104259/,http://firrma.ru/data/news/103984/,http://firrma.ru/data/news/104424/,http://firrma.ru/data/news/104424/,http://firrma.ru/data/news/104424/,http://firrma.ru/data/news/104424/,http://firrma.ru/data/news/104424/,http://firrma.ru/data/news/104424/,http://firrma.ru/data/news/104434/,http://firrma.ru/data/news/104424/,http://firrma.ru/data/news/104424/,http://firrma.ru/data/news/104579/,http://firrma.ru/data/news/105173/,http://firrma.ru/data/news/105173/,http://firrma.ru/data/news/105169/,http://firrma.ru/data/news/103083/,http://firrma.ru/data/news/105199/,http://firrma.ru/data/news/105425/,http://firrma.ru/data/news/105538/,http://firrma.ru/data/news/105547/,http://firrma.ru/data/news/105551/,http://firrma.ru/data/news/105670/,http://firrma.ru/data/news/105667/,http://firrma.ru/data/news/106184/,http://firrma.ru/data/news/106202/,http://firrma.ru/data/news/106416/,http://firrma.ru/data/news/106475/,http://firrma.ru/data/news/106495/,http://firrma.ru/data/news/106505/,http://firrma.ru/data/news/107027/,http://firrma.ru/data/news/107289/\"\n",
    "tmp_data = tmp_str.split(\",\")\n",
    "tmp_data = list(set(tmp_data))\n",
    "print(len(tmp_data))"
   ]
  },
  {
   "cell_type": "code",
   "execution_count": 581,
   "metadata": {
    "colab": {
     "base_uri": "https://localhost:8080/",
     "height": 71
    },
    "colab_type": "code",
    "id": "DXvISbbmm6JM",
    "outputId": "9445a2f3-97de-4b72-f40b-2a0656b23e74"
   },
   "outputs": [
    {
     "name": "stderr",
     "output_type": "stream",
     "text": [
      "/usr/local/lib/python3.6/dist-packages/gensim/matutils.py:737: FutureWarning: Conversion of the second argument of issubdtype from `int` to `np.signedinteger` is deprecated. In future, it will be treated as `np.int64 == np.dtype(int).type`.\n",
      "  if np.issubdtype(vec.dtype, np.int):\n"
     ]
    }
   ],
   "source": [
    "LINKS = tmp_data#[\"http://firrma.ru/data/news/107289/\", \"http://firrma.ru/data/news/106495/\", \"http://firrma.ru/data/news/106184/\", \"http://firrma.ru/data/news/107027/\"]\n",
    "words = []\n",
    "similar = []\n",
    "real_texts = []\n",
    "for ent in LINKS:\n",
    "  cur_text, cur_words, cur_similar = init(ent)\n",
    "  words.append(cur_words)\n",
    "  similar.append(cur_similar)\n",
    "  real_texts.append(cur_text)"
   ]
  },
  {
   "cell_type": "code",
   "execution_count": 0,
   "metadata": {
    "colab": {},
    "colab_type": "code",
    "id": "-uO2FIXArVcR"
   },
   "outputs": [],
   "source": [
    "texts = [\" \".join(ent) for ent in words]"
   ]
  },
  {
   "cell_type": "code",
   "execution_count": 0,
   "metadata": {
    "colab": {},
    "colab_type": "code",
    "id": "P7dtU2wq7SJb"
   },
   "outputs": [],
   "source": [
    "def generate_model(obj):\n",
    "  result_list = []\n",
    "  for ent in obj:\n",
    "    if len(ent[0]) > 1:\n",
    "      tmp_list = [x[0].split(\"_\")[0] for x in ent]\n",
    "      result_list.append(tmp_list)\n",
    "      #print(tmp_list)\n",
    "  return result_list"
   ]
  },
  {
   "cell_type": "code",
   "execution_count": 0,
   "metadata": {
    "colab": {},
    "colab_type": "code",
    "id": "9MC-mkuR8Zdf"
   },
   "outputs": [],
   "source": [
    "#DOCUMENT_MODELS = []\n",
    "INDEX_IN_USE = 2\n",
    "documents_model = generate_model(similar[INDEX_IN_USE])"
   ]
  },
  {
   "cell_type": "code",
   "execution_count": 586,
   "metadata": {
    "colab": {
     "base_uri": "https://localhost:8080/",
     "height": 5171
    },
    "colab_type": "code",
    "id": "xes2ByQ4pQtH",
    "outputId": "b1062e83-48e6-4003-f661-5f5ae3513c1e"
   },
   "outputs": [
    {
     "name": "stderr",
     "output_type": "stream",
     "text": [
      "/usr/local/lib/python3.6/dist-packages/tensorflow/python/ops/gradients_impl.py:95: UserWarning: Converting sparse IndexedSlices to a dense Tensor of unknown shape. This may consume a large amount of memory.\n",
      "  \"Converting sparse IndexedSlices to a dense Tensor of unknown shape. \"\n"
     ]
    },
    {
     "name": "stdout",
     "output_type": "stream",
     "text": [
      "INFO:tensorflow:Restoring parameters from /usr/local/lib/python3.6/dist-packages/ner/extractor/../model/ner_model\n",
      "Match(tokens=[Token(span=(38, 44), text='россия')], span=Span(start=38, end=44), type='LOC') LOC\n",
      "Match(tokens=[Token(span=(90, 93), text='мтс')], span=Span(start=90, end=93), type='ORG') ORG\n",
      "Match(tokens=[Token(span=(209, 223), text='великобритания')], span=Span(start=209, end=223), type='LOC') LOC\n",
      "Match(tokens=[Token(span=(411, 417), text='москва')], span=Span(start=411, end=417), type='LOC') LOC\n",
      "\n",
      "Match(tokens=[Token(span=(38, 44), text='россия')], span=Span(start=38, end=44), type='LOC') LOC\n",
      "Match(tokens=[Token(span=(100, 109), text='александр')], span=Span(start=100, end=109), type='PER') PER\n",
      "Match(tokens=[Token(span=(188, 191), text='снг')], span=Span(start=188, end=191), type='ORG') ORG\n",
      "Match(tokens=[Token(span=(488, 495), text='георгий')], span=Span(start=488, end=495), type='PER') PER\n",
      "\n",
      "Match(tokens=[Token(span=(48, 57), text='александр')], span=Span(start=48, end=57), type='PER') PER\n",
      "Match(tokens=[Token(span=(185, 188), text='сша')], span=Span(start=185, end=188), type='LOC') LOC\n",
      "Match(tokens=[Token(span=(200, 214), text='великобритания')], span=Span(start=200, end=214), type='LOC') LOC\n",
      "Match(tokens=[Token(span=(260, 262), text='рф')], span=Span(start=260, end=262), type='LOC') LOC\n",
      "\n",
      "Match(tokens=[Token(span=(92, 97), text='игорь')], span=Span(start=92, end=97), type='PER') PER\n",
      "Match(tokens=[Token(span=(226, 228), text='ом')], span=Span(start=226, end=228), type='LOC') LOC\n",
      "Match(tokens=[Token(span=(248, 255), text='демидов')], span=Span(start=248, end=255), type='LOC') LOC\n",
      "Match(tokens=[Token(span=(314, 319), text='ангел')], span=Span(start=314, end=319), type='PER') PER\n",
      "Match(tokens=[Token(span=(369, 377), text='эпиляция')], span=Span(start=369, end=377), type='LOC') LOC\n",
      "Match(tokens=[Token(span=(518, 528), text='константин')], span=Span(start=518, end=528), type='PER') PER\n",
      "Match(tokens=[Token(span=(634, 640), text='михаил'), Token(span=(641, 647), text='сиэрэм')], span=Span(start=634, end=647), type='PER') PER\n",
      "Match(tokens=[Token(span=(731, 737), text='москва')], span=Span(start=731, end=737), type='LOC') LOC\n",
      "Match(tokens=[Token(span=(774, 783), text='станислав'), Token(span=(784, 790), text='фитнес')], span=Span(start=774, end=790), type='PER') PER\n",
      "Match(tokens=[Token(span=(834, 842), text='сколково')], span=Span(start=834, end=842), type='ORG') ORG\n",
      "\n",
      "Match(tokens=[Token(span=(83, 91), text='владимир')], span=Span(start=83, end=91), type='PER') PER\n",
      "Match(tokens=[Token(span=(136, 148), text='екатеринбург')], span=Span(start=136, end=148), type='LOC') LOC\n",
      "Match(tokens=[Token(span=(226, 232), text='рустам')], span=Span(start=226, end=232), type='PER') PER\n",
      "Match(tokens=[Token(span=(380, 386), text='сергей')], span=Span(start=380, end=386), type='PER') PER\n",
      "Match(tokens=[Token(span=(427, 433), text='москва')], span=Span(start=427, end=433), type='LOC') LOC\n",
      "\n",
      "Match(tokens=[Token(span=(344, 355), text='предпродажа'), Token(span=(356, 365), text='платформа')], span=Span(start=344, end=365), type='PER') PER\n",
      "Match(tokens=[Token(span=(402, 409), text='эстония')], span=Span(start=402, end=409), type='LOC') LOC\n",
      "Match(tokens=[Token(span=(486, 496), text='николайчук')], span=Span(start=486, end=496), type='PER') PER\n",
      "Match(tokens=[Token(span=(728, 734), text='сергей')], span=Span(start=728, end=734), type='PER') PER\n",
      "\n",
      "Match(tokens=[Token(span=(7, 17), text='люминнотех')], span=Span(start=7, end=17), type='PER') PER\n",
      "Match(tokens=[Token(span=(47, 55), text='кузнецов')], span=Span(start=47, end=55), type='PER') PER\n",
      "Match(tokens=[Token(span=(171, 174), text='фгб'), Token(span=(175, 180), text='центр'), Token(span=(181, 189), text='контроль'), Token(span=(190, 205), text='оптоэлектроника'), Token(span=(206, 212), text='деньга'), Token(span=(213, 219), text='борщев')], span=Span(start=171, end=219), type='ORG') ORG\n",
      "Match(tokens=[Token(span=(220, 224), text='олег'), Token(span=(225, 238), text='биотехнология')], span=Span(start=220, end=238), type='PER') PER\n",
      "Match(tokens=[Token(span=(304, 314), text='ениколопов')], span=Span(start=304, end=314), type='ORG') ORG\n",
      "Match(tokens=[Token(span=(339, 346), text='николай'), Token(span=(347, 355), text='развитие')], span=Span(start=339, end=355), type='PER') PER\n",
      "Match(tokens=[Token(span=(404, 411), text='энергия'), Token(span=(412, 414), text='38'), Token(span=(415, 422), text='георгий')], span=Span(start=404, end=422), type='PER') PER\n",
      "Match(tokens=[Token(span=(698, 704), text='сергей'), Token(span=(705, 711), text='москва')], span=Span(start=698, end=711), type='PER') PER\n",
      "Match(tokens=[Token(span=(739, 746), text='роснано')], span=Span(start=739, end=746), type='ORG') ORG\n",
      "Match(tokens=[Token(span=(747, 756), text='люминотех'), Token(span=(757, 764), text='фотоник')], span=Span(start=747, end=764), type='PER') PER\n",
      "Match(tokens=[Token(span=(768, 772), text='рана')], span=Span(start=768, end=772), type='ORG') ORG\n",
      "Match(tokens=[Token(span=(782, 790), text='сколково')], span=Span(start=782, end=790), type='ORG') ORG\n",
      "Match(tokens=[Token(span=(840, 851), text='новосибирск')], span=Span(start=840, end=851), type='LOC') LOC\n",
      "\n",
      "Match(tokens=[Token(span=(94, 99), text='павел'), Token(span=(100, 105), text='канал')], span=Span(start=94, end=105), type='ORG') ORG\n",
      "Match(tokens=[Token(span=(126, 131), text='ангел')], span=Span(start=126, end=131), type='PER') PER\n",
      "Match(tokens=[Token(span=(438, 446), text='калмыков')], span=Span(start=438, end=446), type='PER') PER\n",
      "Match(tokens=[Token(span=(456, 462), text='сергей'), Token(span=(463, 466), text='год')], span=Span(start=456, end=466), type='PER') PER\n",
      "\n",
      "Match(tokens=[Token(span=(7, 15), text='интернет'), Token(span=(16, 21), text='медиа'), Token(span=(22, 28), text='сделка')], span=Span(start=7, end=28), type='ORG') ORG\n",
      "Match(tokens=[Token(span=(151, 154), text='снг'), Token(span=(155, 163), text='ирландия')], span=Span(start=151, end=163), type='ORG') ORG\n",
      "Match(tokens=[Token(span=(185, 194), text='казахстан')], span=Span(start=185, end=194), type='LOC') LOC\n",
      "\n",
      "Match(tokens=[Token(span=(12, 18), text='россия')], span=Span(start=12, end=18), type='LOC') LOC\n",
      "Match(tokens=[Token(span=(51, 56), text='артур')], span=Span(start=51, end=56), type='PER') PER\n",
      "Match(tokens=[Token(span=(107, 112), text='игорь')], span=Span(start=107, end=112), type='PER') PER\n",
      "Match(tokens=[Token(span=(288, 295), text='евгений')], span=Span(start=288, end=295), type='PER') PER\n",
      "Match(tokens=[Token(span=(440, 445), text='ангел'), Token(span=(446, 457), text='продвижение')], span=Span(start=440, end=457), type='PER') PER\n",
      "\n",
      "Match(tokens=[Token(span=(77, 93), text='грузоподъёмность'), Token(span=(94, 101), text='маршрут')], span=Span(start=77, end=101), type='ORG') ORG\n",
      "Match(tokens=[Token(span=(117, 125), text='владимир'), Token(span=(126, 134), text='терминал'), Token(span=(135, 140), text='путин')], span=Span(start=117, end=140), type='PER') PER\n",
      "Match(tokens=[Token(span=(551, 562), text='вместимость'), Token(span=(563, 569), text='курьер')], span=Span(start=551, end=569), type='PER') PER\n",
      "\n",
      "Match(tokens=[Token(span=(259, 269), text='ростелеком')], span=Span(start=259, end=269), type='ORG') ORG\n",
      "Match(tokens=[Token(span=(638, 642), text='бюро'), Token(span=(643, 648), text='заказ'), Token(span=(649, 656), text='профиль'), Token(span=(657, 663), text='бюджет')], span=Span(start=638, end=663), type='ORG') ORG\n",
      "Match(tokens=[Token(span=(664, 671), text='йошкара'), Token(span=(672, 676), text='колл')], span=Span(start=664, end=676), type='PER') PER\n",
      "Match(tokens=[Token(span=(1307, 1318), text='новосибирск')], span=Span(start=1307, end=1318), type='LOC') LOC\n",
      "Match(tokens=[Token(span=(2333, 2338), text='путин')], span=Span(start=2333, end=2338), type='PER') PER\n",
      "Match(tokens=[Token(span=(2675, 2681), text='москва')], span=Span(start=2675, end=2681), type='LOC') LOC\n",
      "\n",
      "Match(tokens=[Token(span=(138, 148), text='погружение')], span=Span(start=138, end=148), type='LOC') LOC\n",
      "Match(tokens=[Token(span=(149, 157), text='бангалор')], span=Span(start=149, end=157), type='LOC') LOC\n",
      "Match(tokens=[Token(span=(195, 201), text='россия')], span=Span(start=195, end=201), type='LOC') LOC\n",
      "Match(tokens=[Token(span=(328, 335), text='мексика')], span=Span(start=328, end=335), type='LOC') LOC\n",
      "Match(tokens=[Token(span=(577, 583), text='москва')], span=Span(start=577, end=583), type='LOC') LOC\n",
      "Match(tokens=[Token(span=(713, 715), text='рф')], span=Span(start=713, end=715), type='LOC') LOC\n",
      "\n",
      "Match(tokens=[Token(span=(105, 108), text='ооо'), Token(span=(109, 113), text='вица')], span=Span(start=105, end=113), type='ORG') ORG\n",
      "Match(tokens=[Token(span=(125, 134), text='витинскай')], span=Span(start=125, end=134), type='LOC') LOC\n",
      "Match(tokens=[Token(span=(205, 210), text='дарья')], span=Span(start=205, end=210), type='PER') PER\n",
      "Match(tokens=[Token(span=(480, 487), text='валерия')], span=Span(start=480, end=487), type='PER') PER\n",
      "Match(tokens=[Token(span=(494, 503), text='станислав'), Token(span=(504, 509), text='иосиф')], span=Span(start=494, end=509), type='PER') PER\n",
      "\n",
      "Match(tokens=[Token(span=(55, 59), text='юрий')], span=Span(start=55, end=59), type='PER') PER\n",
      "Match(tokens=[Token(span=(78, 81), text='мтс')], span=Span(start=78, end=81), type='ORG') ORG\n",
      "Match(tokens=[Token(span=(277, 283), text='россия')], span=Span(start=277, end=283), type='LOC') LOC\n",
      "Match(tokens=[Token(span=(350, 352), text='78'), Token(span=(353, 362), text='платформа')], span=Span(start=350, end=362), type='ORG') ORG\n",
      "Match(tokens=[Token(span=(446, 454), text='солонина')], span=Span(start=446, end=454), type='PER') PER\n",
      "Match(tokens=[Token(span=(468, 475), text='алексей')], span=Span(start=468, end=475), type='PER') PER\n",
      "Match(tokens=[Token(span=(598, 615), text='ticketlandсистема')], span=Span(start=598, end=615), type='ORG') ORG\n",
      "Match(tokens=[Token(span=(671, 677), text='михаил')], span=Span(start=671, end=677), type='PER') PER\n",
      "Match(tokens=[Token(span=(735, 741), text='сергей'), Token(span=(742, 747), text='актив')], span=Span(start=735, end=747), type='PER') PER\n",
      "Match(tokens=[Token(span=(754, 760), text='москва')], span=Span(start=754, end=760), type='LOC') LOC\n",
      "\n",
      "Match(tokens=[Token(span=(482, 488), text='москва')], span=Span(start=482, end=488), type='LOC') LOC\n",
      "\n",
      "Match(tokens=[Token(span=(258, 265), text='наталья')], span=Span(start=258, end=265), type='PER') PER\n",
      "Match(tokens=[Token(span=(291, 298), text='алексей')], span=Span(start=291, end=298), type='PER') PER\n",
      "Match(tokens=[Token(span=(536, 538), text='цб')], span=Span(start=536, end=538), type='ORG') ORG\n",
      "Match(tokens=[Token(span=(586, 592), text='сергей'), Token(span=(593, 601), text='компания')], span=Span(start=586, end=601), type='PER') PER\n",
      "Match(tokens=[Token(span=(615, 621), text='москва')], span=Span(start=615, end=621), type='LOC') LOC\n",
      "Match(tokens=[Token(span=(675, 680), text='дубай')], span=Span(start=675, end=680), type='LOC') LOC\n",
      "Match(tokens=[Token(span=(701, 711), text='центробанк')], span=Span(start=701, end=711), type='ORG') ORG\n",
      "\n",
      "Match(tokens=[Token(span=(35, 40), text='игорь'), Token(span=(41, 46), text='роман')], span=Span(start=35, end=46), type='PER') PER\n",
      "Match(tokens=[Token(span=(72, 77), text='павел')], span=Span(start=72, end=77), type='PER') PER\n",
      "Match(tokens=[Token(span=(218, 223), text='абрам')], span=Span(start=218, end=223), type='PER') PER\n",
      "Match(tokens=[Token(span=(559, 567), text='клебанов')], span=Span(start=559, end=567), type='PER') PER\n",
      "\n",
      "Match(tokens=[Token(span=(44, 50), text='россия')], span=Span(start=44, end=50), type='LOC') LOC\n",
      "Match(tokens=[Token(span=(101, 104), text='ооо'), Token(span=(105, 115), text='статистика'), Token(span=(116, 128), text='распоряжение'), Token(span=(129, 139), text='консалтинг'), Token(span=(140, 153), text='эффективность'), Token(span=(154, 163), text='платформа'), Token(span=(164, 169), text='роман')], span=Span(start=101, end=169), type='ORG') ORG\n",
      "\n",
      "Match(tokens=[Token(span=(25, 32), text='василий'), Token(span=(33, 39), text='дивайс')], span=Span(start=25, end=39), type='PER') PER\n",
      "Match(tokens=[Token(span=(102, 108), text='цуприк')], span=Span(start=102, end=108), type='ORG') ORG\n",
      "Match(tokens=[Token(span=(149, 154), text='томас')], span=Span(start=149, end=154), type='PER') PER\n",
      "Match(tokens=[Token(span=(237, 244), text='варнига')], span=Span(start=237, end=244), type='PER') PER\n",
      "Match(tokens=[Token(span=(245, 253), text='роснефть')], span=Span(start=245, end=253), type='ORG') ORG\n",
      "\n",
      "Match(tokens=[Token(span=(20, 27), text='метрика')], span=Span(start=20, end=27), type='ORG') ORG\n",
      "Match(tokens=[Token(span=(78, 87), text='александр'), Token(span=(88, 92), text='фонд')], span=Span(start=78, end=92), type='PER') PER\n",
      "Match(tokens=[Token(span=(127, 134), text='мацанюк'), Token(span=(135, 143), text='кузнецов')], span=Span(start=127, end=143), type='PER') PER\n",
      "Match(tokens=[Token(span=(162, 167), text='игорь')], span=Span(start=162, end=167), type='PER') PER\n",
      "Match(tokens=[Token(span=(191, 197), text='европа')], span=Span(start=191, end=197), type='LOC') LOC\n",
      "Match(tokens=[Token(span=(328, 333), text='павел'), Token(span=(334, 342), text='просмотр')], span=Span(start=328, end=342), type='PER') PER\n",
      "Match(tokens=[Token(span=(359, 364), text='борис'), Token(span=(365, 372), text='частное')], span=Span(start=359, end=372), type='PER') PER\n",
      "Match(tokens=[Token(span=(471, 476), text='рамка'), Token(span=(477, 485), text='оператор')], span=Span(start=471, end=485), type='PER') PER\n",
      "Match(tokens=[Token(span=(522, 528), text='яндекс')], span=Span(start=522, end=528), type='ORG') ORG\n",
      "Match(tokens=[Token(span=(557, 561), text='олег')], span=Span(start=557, end=561), type='PER') PER\n",
      "Match(tokens=[Token(span=(587, 593), text='россия')], span=Span(start=587, end=593), type='LOC') LOC\n",
      "Match(tokens=[Token(span=(728, 738), text='ростелеком'), Token(span=(739, 749), text='уберизация')], span=Span(start=728, end=749), type='ORG') ORG\n",
      "Match(tokens=[Token(span=(767, 770), text='снг')], span=Span(start=767, end=770), type='ORG') ORG\n",
      "Match(tokens=[Token(span=(873, 879), text='анкета'), Token(span=(880, 888), text='солонина')], span=Span(start=873, end=888), type='PER') PER\n",
      "Match(tokens=[Token(span=(912, 919), text='алексей'), Token(span=(920, 921), text='7')], span=Span(start=912, end=921), type='PER') PER\n",
      "Match(tokens=[Token(span=(1459, 1465), text='энерго'), Token(span=(1466, 1479), text='анкетирование')], span=Span(start=1459, end=1479), type='PER') PER\n",
      "Match(tokens=[Token(span=(1493, 1500), text='вильнюс')], span=Span(start=1493, end=1500), type='LOC') LOC\n",
      "Match(tokens=[Token(span=(1638, 1645), text='евгений')], span=Span(start=1638, end=1645), type='PER') PER\n",
      "Match(tokens=[Token(span=(1663, 1669), text='сергей'), Token(span=(1670, 1676), text='платёж')], span=Span(start=1663, end=1676), type='PER') PER\n",
      "Match(tokens=[Token(span=(1763, 1767), text='юлий'), Token(span=(1768, 1778), text='доходность')], span=Span(start=1763, end=1778), type='PER') PER\n",
      "Match(tokens=[Token(span=(1949, 1957), text='сколково')], span=Span(start=1949, end=1957), type='ORG') ORG\n",
      "Match(tokens=[Token(span=(2143, 2150), text='волошин')], span=Span(start=2143, end=2150), type='PER') PER\n",
      "Match(tokens=[Token(span=(2218, 2220), text='рф')], span=Span(start=2218, end=2220), type='LOC') LOC\n",
      "Match(tokens=[Token(span=(2355, 2360), text='репик'), Token(span=(2361, 2366), text='оскар')], span=Span(start=2355, end=2366), type='PER') PER\n",
      "\n",
      "\n",
      "Match(tokens=[Token(span=(0, 9), text='екатерина')], span=Span(start=0, end=9), type='PER') PER\n",
      "Match(tokens=[Token(span=(66, 71), text='игорь'), Token(span=(72, 82), text='геолокация')], span=Span(start=66, end=82), type='PER') PER\n",
      "Match(tokens=[Token(span=(213, 219), text='россия')], span=Span(start=213, end=219), type='LOC') LOC\n",
      "Match(tokens=[Token(span=(364, 371), text='алексей')], span=Span(start=364, end=371), type='PER') PER\n",
      "Match(tokens=[Token(span=(413, 420), text='хасанов')], span=Span(start=413, end=420), type='PER') PER\n",
      "Match(tokens=[Token(span=(431, 436), text='елена')], span=Span(start=431, end=436), type='PER') PER\n",
      "Match(tokens=[Token(span=(672, 678), text='москва')], span=Span(start=672, end=678), type='LOC') LOC\n",
      "\n",
      "Match(tokens=[Token(span=(101, 106), text='борис'), Token(span=(107, 112), text='токен')], span=Span(start=101, end=112), type='PER') PER\n",
      "Match(tokens=[Token(span=(599, 603), text='сочи')], span=Span(start=599, end=603), type='LOC') LOC\n",
      "\n",
      "Match(tokens=[Token(span=(50, 60), text='островский')], span=Span(start=50, end=60), type='PER') PER\n",
      "Match(tokens=[Token(span=(145, 151), text='россия')], span=Span(start=145, end=151), type='LOC') LOC\n",
      "Match(tokens=[Token(span=(152, 160), text='киргизия')], span=Span(start=152, end=160), type='LOC') LOC\n",
      "Match(tokens=[Token(span=(175, 185), text='узбекистан')], span=Span(start=175, end=185), type='LOC') LOC\n",
      "Match(tokens=[Token(span=(196, 199), text='снг')], span=Span(start=196, end=199), type='ORG') ORG\n",
      "Match(tokens=[Token(span=(262, 269), text='алексей'), Token(span=(270, 275), text='месяц')], span=Span(start=262, end=275), type='PER') PER\n",
      "Match(tokens=[Token(span=(562, 565), text='зао')], span=Span(start=562, end=565), type='ORG') ORG\n",
      "Match(tokens=[Token(span=(566, 577), text='азербайджан')], span=Span(start=566, end=577), type='LOC') LOC\n",
      "Match(tokens=[Token(span=(581, 592), text='новосибирск')], span=Span(start=581, end=592), type='LOC') LOC\n",
      "\n",
      "Match(tokens=[Token(span=(26, 35), text='александр'), Token(span=(36, 40), text='фонд')], span=Span(start=26, end=40), type='PER') PER\n",
      "Match(tokens=[Token(span=(237, 241), text='глеб')], span=Span(start=237, end=241), type='PER') PER\n",
      "Match(tokens=[Token(span=(394, 399), text='ангел'), Token(span=(400, 414), text='машиностроение')], span=Span(start=394, end=414), type='PER') PER\n",
      "Match(tokens=[Token(span=(424, 431), text='форсайт')], span=Span(start=424, end=431), type='PER') PER\n",
      "\n",
      "Match(tokens=[Token(span=(24, 32), text='владимир')], span=Span(start=24, end=32), type='PER') PER\n",
      "\n",
      "Match(tokens=[Token(span=(40, 49), text='ведомость')], span=Span(start=40, end=49), type='ORG') ORG\n",
      "Match(tokens=[Token(span=(131, 137), text='россия')], span=Span(start=131, end=137), type='LOC') LOC\n",
      "Match(tokens=[Token(span=(152, 155), text='снг')], span=Span(start=152, end=155), type='ORG') ORG\n",
      "Match(tokens=[Token(span=(277, 284), text='дмитрий'), Token(span=(285, 292), text='георгий')], span=Span(start=277, end=292), type='PER') PER\n",
      "Match(tokens=[Token(span=(407, 412), text='рубен')], span=Span(start=407, end=412), type='PER') PER\n",
      "\n",
      "Match(tokens=[Token(span=(90, 98), text='сколково')], span=Span(start=90, end=98), type='ORG') ORG\n",
      "Match(tokens=[Token(span=(142, 151), text='петербург')], span=Span(start=142, end=151), type='LOC') LOC\n",
      "Match(tokens=[Token(span=(301, 307), text='сорина')], span=Span(start=301, end=307), type='LOC') LOC\n",
      "Match(tokens=[Token(span=(420, 425), text='диана')], span=Span(start=420, end=425), type='PER') PER\n",
      "\n",
      "Match(tokens=[Token(span=(14, 22), text='владимир'), Token(span=(23, 26), text='чат')], span=Span(start=14, end=26), type='PER') PER\n",
      "Match(tokens=[Token(span=(141, 146), text='путин')], span=Span(start=141, end=146), type='PER') PER\n",
      "Match(tokens=[Token(span=(156, 160), text='олег')], span=Span(start=156, end=160), type='PER') PER\n",
      "Match(tokens=[Token(span=(391, 398), text='дмитрий'), Token(span=(399, 406), text='арсений')], span=Span(start=391, end=406), type='PER') PER\n",
      "Match(tokens=[Token(span=(417, 422), text='елена')], span=Span(start=417, end=422), type='PER') PER\n",
      "Match(tokens=[Token(span=(483, 494), text='проскуряков')], span=Span(start=483, end=494), type='PER') PER\n",
      "Match(tokens=[Token(span=(869, 876), text='мазница')], span=Span(start=869, end=876), type='PER') PER\n",
      "\n",
      "Match(tokens=[Token(span=(61, 64), text='сша')], span=Span(start=61, end=64), type='LOC') LOC\n",
      "Match(tokens=[Token(span=(171, 174), text='ооо'), Token(span=(175, 184), text='платформа')], span=Span(start=171, end=184), type='ORG') ORG\n",
      "Match(tokens=[Token(span=(185, 189), text='анна'), Token(span=(190, 200), text='математика')], span=Span(start=185, end=200), type='PER') PER\n",
      "Match(tokens=[Token(span=(577, 582), text='белов')], span=Span(start=577, end=582), type='PER') PER\n",
      "\n",
      "Match(tokens=[Token(span=(13, 19), text='россия')], span=Span(start=13, end=19), type='LOC') LOC\n",
      "Match(tokens=[Token(span=(226, 235), text='тимошенко')], span=Span(start=226, end=235), type='PER') PER\n",
      "\n",
      "Match(tokens=[Token(span=(6, 13), text='валерий'), Token(span=(14, 22), text='стармарк')], span=Span(start=6, end=22), type='PER') PER\n",
      "Match(tokens=[Token(span=(170, 175), text='ангел')], span=Span(start=170, end=175), type='PER') PER\n",
      "Match(tokens=[Token(span=(183, 187), text='олег')], span=Span(start=183, end=187), type='PER') PER\n",
      "Match(tokens=[Token(span=(413, 420), text='игнатов')], span=Span(start=413, end=420), type='PER') PER\n",
      "Match(tokens=[Token(span=(508, 514), text='сергей')], span=Span(start=508, end=514), type='PER') PER\n",
      "\n",
      "Match(tokens=[Token(span=(39, 43), text='пётр')], span=Span(start=39, end=43), type='PER') PER\n",
      "Match(tokens=[Token(span=(63, 72), text='ведомость')], span=Span(start=63, end=72), type='ORG') ORG\n",
      "Match(tokens=[Token(span=(117, 123), text='андрей'), Token(span=(124, 132), text='вкусвилл'), Token(span=(133, 140), text='газпром')], span=Span(start=117, end=140), type='PER') PER\n",
      "Match(tokens=[Token(span=(188, 193), text='ангел'), Token(span=(194, 202), text='контроль'), Token(span=(203, 212), text='федченков')], span=Span(start=188, end=212), type='PER') PER\n",
      "Match(tokens=[Token(span=(243, 249), text='россия')], span=Span(start=243, end=249), type='LOC') LOC\n",
      "Match(tokens=[Token(span=(271, 279), text='сбербанк')], span=Span(start=271, end=279), type='ORG') ORG\n",
      "Match(tokens=[Token(span=(280, 287), text='альберт'), Token(span=(288, 298), text='корпорация')], span=Span(start=280, end=298), type='PER') PER\n",
      "Match(tokens=[Token(span=(332, 337), text='хасис')], span=Span(start=332, end=337), type='PER') PER\n",
      "Match(tokens=[Token(span=(385, 393), text='солонина')], span=Span(start=385, end=393), type='PER') PER\n",
      "Match(tokens=[Token(span=(415, 422), text='дмитрий')], span=Span(start=415, end=422), type='PER') PER\n",
      "Match(tokens=[Token(span=(520, 527), text='дмитрия')], span=Span(start=520, end=527), type='PER') PER\n",
      "Match(tokens=[Token(span=(645, 651), text='сергей')], span=Span(start=645, end=651), type='PER') PER\n",
      "Match(tokens=[Token(span=(763, 768), text='петра')], span=Span(start=763, end=768), type='PER') PER\n",
      "\n",
      "Match(tokens=[Token(span=(16, 21), text='игорь'), Token(span=(22, 30), text='квартира')], span=Span(start=16, end=30), type='PER') PER\n",
      "Match(tokens=[Token(span=(106, 111), text='ангел')], span=Span(start=106, end=111), type='PER') PER\n",
      "Match(tokens=[Token(span=(128, 141), text='идентификация')], span=Span(start=128, end=141), type='ORG') ORG\n",
      "Match(tokens=[Token(span=(164, 166), text='78'), Token(span=(167, 176), text='платформа'), Token(span=(177, 182), text='фарид')], span=Span(start=164, end=182), type='ORG') ORG\n",
      "Match(tokens=[Token(span=(262, 266), text='кипр')], span=Span(start=262, end=266), type='LOC') LOC\n",
      "\n",
      "Match(tokens=[Token(span=(13, 19), text='россия')], span=Span(start=13, end=19), type='LOC') LOC\n",
      "Match(tokens=[Token(span=(154, 156), text='99'), Token(span=(157, 167), text='консалтинг')], span=Span(start=154, end=167), type='ORG') ORG\n",
      "Match(tokens=[Token(span=(255, 258), text='снг')], span=Span(start=255, end=258), type='ORG') ORG\n",
      "Match(tokens=[Token(span=(321, 326), text='индия')], span=Span(start=321, end=326), type='LOC') LOC\n",
      "Match(tokens=[Token(span=(389, 397), text='открытие'), Token(span=(398, 402), text='азия'), Token(span=(403, 410), text='решение'), Token(span=(411, 422), text='присутствие'), Token(span=(423, 437), text='криминалистика')], span=Span(start=389, end=437), type='ORG') ORG\n",
      "Match(tokens=[Token(span=(476, 482), text='сергей')], span=Span(start=476, end=482), type='PER') PER\n",
      "Match(tokens=[Token(span=(558, 563), text='ирина')], span=Span(start=558, end=563), type='PER') PER\n",
      "Match(tokens=[Token(span=(566, 571), text='центр'), Token(span=(572, 579), text='америка')], span=Span(start=566, end=579), type='ORG') ORG\n",
      "\n",
      "\n",
      "Match(tokens=[Token(span=(2, 5), text='вэб')], span=Span(start=2, end=5), type='ORG') ORG\n",
      "Match(tokens=[Token(span=(16, 30), text='внешэкономбанк')], span=Span(start=16, end=30), type='ORG') ORG\n",
      "Match(tokens=[Token(span=(59, 65), text='россия')], span=Span(start=59, end=65), type='LOC') LOC\n",
      "Match(tokens=[Token(span=(134, 142), text='сколково')], span=Span(start=134, end=142), type='ORG') ORG\n",
      "Match(tokens=[Token(span=(149, 155), text='кирилл'), Token(span=(156, 164), text='поставка'), Token(span=(165, 175), text='соинвестор')], span=Span(start=149, end=175), type='PER') PER\n",
      "Match(tokens=[Token(span=(284, 289), text='булат')], span=Span(start=284, end=289), type='PER') PER\n",
      "\n",
      "Match(tokens=[Token(span=(47, 52), text='игорь'), Token(span=(53, 59), text='мастер')], span=Span(start=47, end=59), type='PER') PER\n",
      "Match(tokens=[Token(span=(60, 68), text='медведев')], span=Span(start=60, end=68), type='PER') PER\n",
      "Match(tokens=[Token(span=(92, 100), text='светлана'), Token(span=(101, 107), text='услуга')], span=Span(start=92, end=107), type='PER') PER\n",
      "Match(tokens=[Token(span=(277, 283), text='россия')], span=Span(start=277, end=283), type='LOC') LOC\n",
      "Match(tokens=[Token(span=(522, 532), text='константин'), Token(span=(533, 540), text='таврина')], span=Span(start=522, end=540), type='PER') PER\n",
      "Match(tokens=[Token(span=(642, 648), text='максим')], span=Span(start=642, end=648), type='PER') PER\n",
      "Match(tokens=[Token(span=(671, 674), text='стс')], span=Span(start=671, end=674), type='ORG') ORG\n",
      "Match(tokens=[Token(span=(826, 830), text='март'), Token(span=(831, 837), text='кисмет'), Token(span=(838, 843), text='заказ'), Token(span=(844, 851), text='гладков'), Token(span=(852, 859), text='репешко'), Token(span=(860, 867), text='финансы'), Token(span=(868, 871), text='дом')], span=Span(start=826, end=871), type='ORG') ORG\n",
      "\n",
      "Match(tokens=[Token(span=(19, 25), text='казань')], span=Span(start=19, end=25), type='LOC') LOC\n",
      "Match(tokens=[Token(span=(103, 112), text='сухоруков'), Token(span=(113, 117), text='фонд'), Token(span=(118, 125), text='скоринг')], span=Span(start=103, end=125), type='PER') PER\n",
      "Match(tokens=[Token(span=(331, 338), text='алексей'), Token(span=(339, 345), text='бизнес')], span=Span(start=331, end=345), type='PER') PER\n",
      "Match(tokens=[Token(span=(348, 360), text='министерство'), Token(span=(361, 365), text='банк'), Token(span=(366, 372), text='егрюла')], span=Span(start=348, end=372), type='ORG') ORG\n",
      "Match(tokens=[Token(span=(379, 386), text='евгений'), Token(span=(387, 394), text='область')], span=Span(start=379, end=394), type='PER') PER\n",
      "\n",
      "Match(tokens=[Token(span=(235, 241), text='максим')], span=Span(start=235, end=241), type='PER') PER\n",
      "Match(tokens=[Token(span=(418, 423), text='борис'), Token(span=(424, 432), text='нуралиев'), Token(span=(433, 446), text='автоматизация'), Token(span=(447, 463), text='smartwayкомпание'), Token(span=(464, 468), text='инна')], span=Span(start=418, end=468), type='PER') PER\n",
      "\n",
      "Match(tokens=[Token(span=(48, 54), text='россия')], span=Span(start=48, end=54), type='LOC') LOC\n",
      "Match(tokens=[Token(span=(71, 76), text='чехия')], span=Span(start=71, end=76), type='LOC') LOC\n",
      "Match(tokens=[Token(span=(84, 93), text='александр')], span=Span(start=84, end=93), type='PER') PER\n",
      "Match(tokens=[Token(span=(107, 110), text='ооо'), Token(span=(111, 121), text='физтехпарк')], span=Span(start=107, end=121), type='ORG') ORG\n",
      "Match(tokens=[Token(span=(264, 271), text='австрия')], span=Span(start=264, end=271), type='LOC') LOC\n",
      "Match(tokens=[Token(span=(309, 317), text='германия')], span=Span(start=309, end=317), type='LOC') LOC\n",
      "\n",
      "Match(tokens=[Token(span=(22, 28), text='россия')], span=Span(start=22, end=28), type='LOC') LOC\n",
      "Match(tokens=[Token(span=(120, 126), text='европа')], span=Span(start=120, end=126), type='LOC') LOC\n",
      "Match(tokens=[Token(span=(194, 199), text='антон')], span=Span(start=194, end=199), type='PER') PER\n",
      "\n",
      "Match(tokens=[Token(span=(27, 36), text='александр'), Token(span=(37, 48), text='технониколь')], span=Span(start=27, end=48), type='PER') PER\n",
      "Match(tokens=[Token(span=(80, 85), text='игорь')], span=Span(start=80, end=85), type='PER') PER\n",
      "Match(tokens=[Token(span=(98, 101), text='мтс'), Token(span=(102, 111), text='ведомость')], span=Span(start=98, end=111), type='ORG') ORG\n",
      "Match(tokens=[Token(span=(139, 147), text='мордашов')], span=Span(start=139, end=147), type='PER') PER\n",
      "Match(tokens=[Token(span=(248, 254), text='россия')], span=Span(start=248, end=254), type='LOC') LOC\n",
      "Match(tokens=[Token(span=(276, 282), text='павлов')], span=Span(start=276, end=282), type='PER') PER\n",
      "Match(tokens=[Token(span=(333, 340), text='людмила')], span=Span(start=333, end=340), type='PER') PER\n",
      "Match(tokens=[Token(span=(356, 359), text='снг')], span=Span(start=356, end=359), type='ORG') ORG\n",
      "Match(tokens=[Token(span=(420, 428), text='солонина')], span=Span(start=420, end=428), type='PER') PER\n",
      "Match(tokens=[Token(span=(436, 443), text='алексей')], span=Span(start=436, end=443), type='PER') PER\n",
      "Match(tokens=[Token(span=(682, 688), text='сергей'), Token(span=(689, 699), text='северсталь')], span=Span(start=682, end=699), type='ORG') ORG\n",
      "Match(tokens=[Token(span=(768, 774), text='фролов')], span=Span(start=768, end=774), type='PER') PER\n",
      "Match(tokens=[Token(span=(838, 846), text='сколково')], span=Span(start=838, end=846), type='ORG') ORG\n",
      "\n",
      "Match(tokens=[Token(span=(38, 44), text='шанхай')], span=Span(start=38, end=44), type='LOC') LOC\n",
      "Match(tokens=[Token(span=(180, 185), text='орлов')], span=Span(start=180, end=185), type='PER') PER\n",
      "Match(tokens=[Token(span=(273, 279), text='андрей')], span=Span(start=273, end=279), type='PER') PER\n",
      "Match(tokens=[Token(span=(350, 357), text='гонконг')], span=Span(start=350, end=357), type='LOC') LOC\n",
      "\n",
      "Match(tokens=[Token(span=(510, 521), text='маркетплейс'), Token(span=(522, 531), text='настройка'), Token(span=(532, 539), text='новость')], span=Span(start=510, end=539), type='ORG') ORG\n",
      "\n"
     ]
    }
   ],
   "source": [
    "extractor = ner.Extractor()\n",
    "for text in texts:\n",
    "  for m in extractor(text):\n",
    "    print(m, m.type)\n",
    "  print()"
   ]
  },
  {
   "cell_type": "code",
   "execution_count": 587,
   "metadata": {
    "colab": {
     "base_uri": "https://localhost:8080/",
     "height": 34
    },
    "colab_type": "code",
    "id": "rit9pWHXJ_5p",
    "outputId": "132a7fa0-30e2-4197-80a6-d3f5643aec27"
   },
   "outputs": [
    {
     "data": {
      "text/plain": [
       "42"
      ]
     },
     "execution_count": 587,
     "metadata": {
      "tags": []
     },
     "output_type": "execute_result"
    }
   ],
   "source": [
    "len(documents_model)"
   ]
  },
  {
   "cell_type": "code",
   "execution_count": 0,
   "metadata": {
    "colab": {},
    "colab_type": "code",
    "id": "wPRsFVqD3PKt"
   },
   "outputs": [],
   "source": [
    "def test(raw_documents, query_doc):\n",
    "  from nltk.tokenize import word_tokenize\n",
    "  gen_docs = raw_documents\n",
    "  dictionary = gensim.corpora.Dictionary(gen_docs)\n",
    "  corpus = [dictionary.doc2bow(gen_doc) for gen_doc in gen_docs]\n",
    "  tf_idf = gensim.models.TfidfModel(corpus)\n",
    "  sims = gensim.similarities.Similarity(None, tf_idf[corpus],\n",
    "                                      num_features=len(dictionary))\n",
    "  sims_list = []\n",
    "  maxes = []\n",
    "  entities = []\n",
    "  for ent in query_doc:\n",
    "    query_doc_bow = dictionary.doc2bow(ent)\n",
    "    query_doc_tf_idf = tf_idf[query_doc_bow]\n",
    "    \n",
    "    entities.append(ent)\n",
    "    maxes.append(max(query_doc_tf_idf))\n",
    "    sims_list.append(sims[query_doc_tf_idf])\n",
    "  return entities, maxes, sims_list"
   ]
  },
  {
   "cell_type": "code",
   "execution_count": 0,
   "metadata": {
    "colab": {},
    "colab_type": "code",
    "id": "c-_KNV2_ThvX"
   },
   "outputs": [],
   "source": [
    "def get_test_words(text):\n",
    "  words = list(set(word_list(text)))\n",
    "  entity = []\n",
    "  for ent in words:\n",
    "    if ent.isalpha():  \n",
    "      entity.append(ent + \"_NOUN\")\n",
    "    else:\n",
    "      entity.append(ent)\n",
    "  similar = get_similar(entity)\n",
    "  return text, words, similar"
   ]
  },
  {
   "cell_type": "code",
   "execution_count": 593,
   "metadata": {
    "colab": {
     "base_uri": "https://localhost:8080/",
     "height": 71
    },
    "colab_type": "code",
    "id": "cN02LsvHTWDm",
    "outputId": "f9fdefd4-8953-450a-f615-2855b97274f5"
   },
   "outputs": [
    {
     "name": "stderr",
     "output_type": "stream",
     "text": [
      "/usr/local/lib/python3.6/dist-packages/gensim/matutils.py:737: FutureWarning: Conversion of the second argument of issubdtype from `int` to `np.signedinteger` is deprecated. In future, it will be treated as `np.int64 == np.dtype(int).type`.\n",
      "  if np.issubdtype(vec.dtype, np.int):\n"
     ]
    }
   ],
   "source": [
    "a_text, a_words, a_similar = get_test_words(\"Apple купил стартап Asaii, чтобы находить набирающих популярность музыкантов. Официально стоимость сделки не раскрывается, но источники предполагают, что она могла быть меньше $100 млн. Об этом рассказал Fortune. Сервис Asaii предоставляет аналитику лейблам и музыкальным агентам. Он предлагает им рекомендации и помогает найти перспективных артистов до того, как они станут всемирно известными. Apple собирается работать с молодыми исполнителями напрямую через Apple Music и заключать с ними эксклюзивные контракты. Ближайший конкурент Apple Music, музыкальный сервис Spotify, начал делать так год назад.\")"
   ]
  },
  {
   "cell_type": "code",
   "execution_count": 0,
   "metadata": {
    "colab": {},
    "colab_type": "code",
    "id": "fJu92Np5T6Ve"
   },
   "outputs": [],
   "source": [
    "#words"
   ]
  },
  {
   "cell_type": "code",
   "execution_count": 600,
   "metadata": {
    "colab": {
     "base_uri": "https://localhost:8080/",
     "height": 71
    },
    "colab_type": "code",
    "id": "BvXRtiB54uw9",
    "outputId": "48b55b4c-4802-43a0-a40d-d2c5c6420dd8"
   },
   "outputs": [
    {
     "name": "stderr",
     "output_type": "stream",
     "text": [
      "/usr/local/lib/python3.6/dist-packages/gensim/matutils.py:718: FutureWarning: Conversion of the second argument of issubdtype from `int` to `np.signedinteger` is deprecated. In future, it will be treated as `np.int64 == np.dtype(int).type`.\n",
      "  if np.issubdtype(vec.dtype, np.int):\n"
     ]
    }
   ],
   "source": [
    "b_entities, b_maxes, b_sims_list = test(documents_model, [a_words])\n",
    "#entities, maxes, sims_list = test(documents_model, words)"
   ]
  },
  {
   "cell_type": "code",
   "execution_count": 652,
   "metadata": {
    "colab": {
     "base_uri": "https://localhost:8080/",
     "height": 68
    },
    "colab_type": "code",
    "id": "D8xdz6gOUPuA",
    "outputId": "39f5a0d0-7d49-4971-8ef0-d8202f394f10"
   },
   "outputs": [
    {
     "name": "stdout",
     "output_type": "stream",
     "text": [
      "['молодая', 'миллион', 'музыкант', 'год', 'сервис', 'исполнитель', 'рекомендация', 'сделка', 'лейбл', 'стоимость', 'стартап', 'контракт', 'артист', 'популярность', 'аналитик', '100', 'конкурент', 'агент', 'источник']\n",
      "['сервисный', 'обслуживание', 'сервис', 'сервис', '-сервис', 'техподдержка', 'хостинг', 'провайдер', 'услуга', 'отель']\n",
      "\n"
     ]
    }
   ],
   "source": [
    "print(a_words)\n",
    "print(documents_model[np.argmax(b_sims_list)])\n",
    "print()"
   ]
  },
  {
   "cell_type": "code",
   "execution_count": 590,
   "metadata": {
    "colab": {
     "base_uri": "https://localhost:8080/",
     "height": 904
    },
    "colab_type": "code",
    "id": "rnBLLOlOIYEb",
    "outputId": "fce9fc90-ab93-45da-bb0f-e0141d030797"
   },
   "outputs": [
    {
     "name": "stdout",
     "output_type": "stream",
     "text": [
      "ЗА ОСНОВУ ДЛЯ СОЗДАНИЯ МОДЕЛИ ВЗЯТА СТАТЬЯ http://firrma.ru/data/news/104259/\n",
      "КЛЮЧЕВЫЕ СЛОВА СТАТЬИ:['осуществление', 'россия', 'аренда', 'страна', 'пространство', 'александр', 'трансфер', 'география', 'авиакомпания', 'деятельность', 'система', 'автомобиль', 'платформа', 'холдинг', 'авиаперевозка', 'водитель', 'сфера', 'пресс', 'частность', 'сша', 'расстояние', 'великобритания', 'средство', 'бронирование', 'сервис', 'лицензия', 'данные', 'рф', 'путешественник', '13', 'присутствие', '100', 'расширение', 'компания', 'область', 'возможность', 'обслуживание', '2015', 'год', 'тысяча', 'использование', 'служба', 'мир', 'цель', 'инвестиция', 'першиков']\n",
      "#\t    НА СКОЛЬКО СТАТЬЯ ПОХОЖА НА СДЕЛКУ\t\tССЫЛКА\t\t\t\t\tОСНОВНЫЕ СЛОВА ИЗ СТАТЬИ\n",
      "\n",
      "0\t\t\t33.66122%\t\thttp://firrma.ru/data/news/99629/\t['бренд', '5', 'сторона', 'дворянкин', '16', 'интернет', 'россия', 'телевидение', 'сделка', 'владелец']\t\n",
      "1\t\t\t34.66031%\t\thttp://firrma.ru/data/news/99626/\t['5', 'ход', 'раз', 'сторона', 'прямая', 'сооснователь', 'россия', 'эркин', 'капиталь', 'сделка']\t\n",
      "2\t\t\t20.00879%\t\thttp://firrma.ru/data/news/104259/\t['осуществление', 'россия', 'аренда', 'страна', 'пространство', 'александр', 'трансфер', 'география', 'авиакомпания', 'деятельность']\t\n",
      "3\t\t\t26.12296%\t\thttp://firrma.ru/data/news/106495/\t['магазин', 'молодая', 'заём', 'департамент', 'одежда', 'рекомендация', '4', 'процент', 'фонд', '30']\t\n",
      "4\t\t\t44.764%\t\thttp://firrma.ru/data/news/106475/\t['магазин', '5', 'момент', 'запуск', 'интернет', 'день', 'предприниматель', 'хафизов', 'сделка', '4']\t\n",
      "5\t\t\t26.11447%\t\thttp://firrma.ru/data/news/106505/\t['прима', 'разведка', 'друг', 'проектирование', 'день', 'общество', 'база', '90', '95', 'вадим']\t\n",
      "6\t\t\t33.97453%\t\thttp://firrma.ru/data/news/98838/\t['задача', 'люминнотех', '4', 'фонд', 'директор', 'база', 'выручка', 'кузнецов', 'наноцентр', 'квартира']\t\n",
      "7\t\t\t34.65422%\t\thttp://firrma.ru/data/news/105547/\t['ботэ', '4', 'фонд', '30', 'ответ', 'услуга', '2', 'инвест', 'часть', 'средство']\t\n",
      "8\t\t\t34.3219%\t\thttp://firrma.ru/data/news/102698/\t['5', 'заём', 'интернет', 'медиа', 'сделка', 'индустрия', '30', 'условие', 'апрель', 'программа']\t\n",
      "9\t\t\t35.74731%\t\thttp://firrma.ru/data/news/105169/\t['ход', 'сторона', 'россия', 'рост', 'шамал', 'условие', 'директор', 'ооо', 'артур', 'рынок']\t\n",
      "10\t\t\t34.65422%\t\thttp://firrma.ru/data/news/98713/\t['5', 'президент', 'задача', 'интернет', 'софт', 'окно', 'сотня', 'представитель', 'стадия', 'график']\t\n",
      "11\t\t\t25.13744%\t\thttp://firrma.ru/data/news/102624/\t['магазин', 'прямая', 'одежда', 'телеканал', 'чат', 'поставщик', 'мероприятие', 'вакансия', 'риска', 'петербург']\t\n",
      "12\t\t\t30.16821%\t\thttp://firrma.ru/data/news/104424/\t['инновация', 'движение', '4', 'хабов', 'сообщество', 'поездка', 'маршрут', 'чат', 'касабланка', 'мероприятие']\t\n",
      "13\t\t\t43.32706%\t\thttp://firrma.ru/data/news/104434/\t['группа', 'президент', 'песня', 'эмин', 'предприниматель', 'сделка', 'машина', 'телефон', 'стоимость', 'объект']\t\n",
      "14\t\t\t23.04764%\t\thttp://firrma.ru/data/news/105173/\t['бренд', 'конец', 'телевидение', 'капитал', 'ребёнок', 'пономинал', 'фонд', 'юрий', 'директор', 'квартира']\t\n",
      "15\t\t\t36.12323%\t\thttp://firrma.ru/data/news/105199/\t['5', 'задача', 'основа', 'разговор', 'гурин', 'предприниматель', 'представитель', 'сделка', 'сообщество', 'фонд']\t\n",
      "16\t\t\t32.74382%\t\thttp://firrma.ru/data/news/105670/\t['магазин', '2007', '4', 'символ', 'выручка', 'фото', 'златкомбанк', 'услуга', 'утечка', 'соглашение']\t\n",
      "17\t\t\t34.65422%\t\thttp://firrma.ru/data/news/123897/\t['субпродукт', 'процесс', 'овощ', 'фонд', 'товар', 'игорь', 'роман', 'закрытие', 'миллион', 'продажа']\t\n",
      "18\t\t\t36.54161%\t\thttp://firrma.ru/data/news/99667/\t['бренд', 'группа', '5', 'основа', 'интернет', 'сооснователь', 'россия', 'взаимодействие', 'размер', 'остров']\t\n",
      "19\t\t\t48.07366%\t\thttp://firrma.ru/data/news/111383/\t['отрасль', 'телекоммуникация', 'василий', 'дивайс', 'ит', 'индустрия', '30', 'директор', 'экспресс', 'владелец']\t\n",
      "20\t\t\t18.57657%\t\thttp://firrma.ru/projects/reyting_angelov_2016/\t['молодая', 'шорты', 'сми', 'р', 'метрика', 'ассоциация', 'конец', 'отчёт', '4', 'второе']\t\n",
      "21\t\t\t33.97453%\t\thttp://firrma.ru/data/news/103083/\t['чек', '5', 'интернет', 'одежда', 'вложение', 'горелик', 'представитель', 'версия', 'сделка', 'фонд']\t\n",
      "22\t\t\t24.6265%\t\thttp://firrma.ru/data/news/107289/\t['екатерина', 'задача', 'тип', 'конец', 'ребёнок', 'фонд', 'директор', 'технониколь', '30', 'е']\t\n",
      "23\t\t\t36.94344%\t\thttp://firrma.ru/data/news/106184/\t['магазин', 'прима', 'база', 'пример', '2009', 'соцсеть', 'ресторан', '2', 'название', 'сбор']\t\n",
      "24\t\t\t29.71659%\t\thttp://firrma.ru/data/news/102768/\t['бренд', 'день', '4', 'директор', 'база', '90', '95', 'холдинг', 'вакансия', 'островский']\t\n",
      "25\t\t\t32.74382%\t\thttp://firrma.ru/data/news/101173/\t['5', 'эвакуация', 'сделка', 'машина', 'александр', 'фонд', 'схема', 'биомедицина', '1', 'ремонт']\t\n",
      "26\t\t\t32.46306%\t\thttp://firrma.ru/data/news/104579/\t['успех', 'день', '4', 'условие', '30', 'владимир', 'сценарий', 'документ', 'пофьер', 'начало']\t\n",
      "27\t\t\t35.74731%\t\thttp://firrma.ru/data/news/101168/\t['запись', 'зал', 'аналитик', 'выручка', '2009', 'европа', 'ведомость', 'эффект', 'начало', 'золотарев']\t\n",
      "28\t\t\t36.12323%\t\thttp://firrma.ru/data/news/101557/\t['точка', 'контент', 'основа', 'сооснователь', 'софт', 'кусок', 'ингрия', 'земля', 'объект', 'фонд']\t\n",
      "29\t\t\t36.94344%\t\thttp://firrma.ru/data/news/107027/\t['задача', '4', 'фонд', 'владимир', 'чат', 'упаковка', 'поставщик', '11', '2', 'препарат']\t\n",
      "30\t\t\t28.6858%\t\thttp://firrma.ru/data/news/103216/\t['бренд', '4', 'фонд', 'товар', '30', 'директор', 'выручка', 'европа', 'холдинг', 'опыт']\t\n",
      "31\t\t\t33.66122%\t\thttp://firrma.ru/data/news/99026/\t['бренд', 'запуск', 'россия', 'сделка', 'такси', 'александр', 'директор', 'сотрудничество', 'база', 'ооо']\t\n",
      "32\t\t\t29.71275%\t\thttp://firrma.ru/data/news/105551/\t['конец', 'валерий', 'стармарк', 'директор', 'электротранспорт', '95', 'мероприятие', 'средство', 'миллион', 'новое']\t\n",
      "33\t\t\t29.50249%\t\thttp://firrma.ru/data/news/103984/\t['магазин', 'конец', 'капитал', 'якубсон', 'директор', 'пётр', 'выручка', 'фото', 'класс', 'ведомость']\t\n",
      "34\t\t\t39.7559%\t\thttp://firrma.ru/data/news/106202/\t['2007', 'фонд', 'товар', 'игорь', 'квартира', 'штат', 'кэшбэк', 'услуга', 'лутец', '2']\t\n",
      "35\t\t\t24.1455%\t\thttp://firrma.ru/data/news/105425/\t['бренд', 'группа', 'россия', 'оборот', 'сделка', 'рост', 'ит', '27', 'счёт', '51']\t\n",
      "36\t\t\t42.02017%\t\thttp://firrma.ru/data/news/103069/\t['бренд', '5', 'сделка', '30', 'рекламодатель', 'фонд', 'покупка', 'база', 'рынок', 'аккаунт']\t\n",
      "37\t\t\t36.13014%\t\thttp://firrma.ru/data/news/99929/\t['5', 'вэб', 'инновация', 'внешэкономбанк', 'основа', 'запуск', 'осуществление', 'россия', 'день', 'президент']\t\n",
      "38\t\t\t25.40903%\t\thttp://firrma.ru/data/news/105538/\t['бренд', 'конец', '4', 'капитал', 'фонд', 'директор', '30', 'выручка', 'игорь', 'мастер']\t\n",
      "39\t\t\t36.14569%\t\thttp://firrma.ru/data/news/106416/\t['ядро', 'магазин', 'точка', 'казань', '5', 'момент', 'интернет', 'сооснователь', 'транш', 'конец']\t\n",
      "40\t\t\t39.7559%\t\thttp://firrma.ru/data/news/99477/\t['самоокупаемость', 'дистрибуция', 'руководство', 'основа', '1с1с', 'гостиница', 'процесс', 'версия', 'сделка', 'счёт']\t\n",
      "41\t\t\t36.13014%\t\thttp://firrma.ru/data/news/102446/\t['34', 'эфекс', 'формат', 'президент', 'основа', 'проектирование', 'россия', 'предприниматель', 'чехия', 'объект']\t\n",
      "42\t\t\t45.52268%\t\thttp://firrma.ru/data/news/103066/\t['экспедитор', 'константин', 'россия', 'процесс', 'предприниматель', 'представитель', 'дерябин', 'автозаём', 'директор', 'контейнер']\t\n",
      "43\t\t\t24.02565%\t\thttp://firrma.ru/data/news/105667/\t['бренд', 'процесс', '4', 'афиша', 'фонд', 'александр', 'технониколь', 'выручка', 'понедельник', 'фотография']\t\n",
      "44\t\t\t36.14569%\t\thttp://firrma.ru/data/news/98600/\t['магазин', 'группа', 'интернет', 'день', 'мощность', 'шанхай', '4', 'фонд', 'площадь', '21']\t\n",
      "45\t\t\t35.37639%\t\thttp://firrma.ru/data/news/100092/\t['магазин', 'задача', 'вложение', 'геймификация', 'процесс', 'трафик', 'релокация', 'портал', 'фонд', 'сценарий']\t\n",
      "\n"
     ]
    }
   ],
   "source": [
    "tmp_str = \"\"\n",
    "for index, value in enumerate(sims_list):\n",
    "  try:\n",
    "    tmp_str = tmp_str + str(index) + '\\t\\t\\t' + str(round(maxes[index][1] * 100, 5)) + '%\\t\\t' + str(LINKS[index]) + '\\t' + str(entities[index][:10]) + '\\t' + '\\n'\n",
    "  except:\n",
    "    tmp_str = tmp_str + str()\n",
    "print('ЗА ОСНОВУ ДЛЯ СОЗДАНИЯ МОДЕЛИ ВЗЯТА СТАТЬЯ ' + LINKS[INDEX_IN_USE] + \"\\nКЛЮЧЕВЫЕ СЛОВА СТАТЬИ:\" + str(words[INDEX_IN_USE]))\n",
    "print('#\\t    НА СКОЛЬКО СТАТЬЯ ПОХОЖА НА СДЕЛКУ\\t\\tССЫЛКА\\t\\t\\t\\t\\tОСНОВНЫЕ СЛОВА ИЗ СТАТЬИ')\n",
    "print()\n",
    "print(tmp_str)"
   ]
  },
  {
   "cell_type": "code",
   "execution_count": 450,
   "metadata": {
    "colab": {
     "base_uri": "https://localhost:8080/",
     "height": 836
    },
    "colab_type": "code",
    "id": "oGQeQ3I2_mj1",
    "outputId": "dac09922-d9c3-4497-f927-63a9bacd3fbe"
   },
   "outputs": [
    {
     "name": "stdout",
     "output_type": "stream",
     "text": [
      "#\tССЫЛКА \t\t\t\t\tСЛОВА ИЗ СТАТЬИ\n",
      "0\thttp://firrma.ru/data/news/99629/\tбренд 5 сторона дворянкин 16 интернет россия телевидение сделка владелец рынок 1 квартира мтс информация роман 2013 холдинг коммуникация система ведомость услуга доход десяток 2 штаб организация доступ проект великобритания мтспао часть рубль физлицо сумма миллион 2017 ссылка стандарт клуб данные игрок оценка турнир команда компания источник актив состав связь наличие год создание телекоммуникациона продукт москва портфель оператор контракт гендиректор имя\n",
      "1\thttp://firrma.ru/data/news/99626/\t5 ход раз сторона прямая сооснователь россия эркин капиталь сделка капитал ребёнок фонд 18 директор александр ооо страна инвестфонд выручка 11 информация платформа 2013 класс история опыт снг внимание стартап 2 3 организация проект миллиард 2014 соловьев занятие образование курс рубль миллион сумма 2017 преподаватель ссылка 725 развитие сервис участник клиент данные ученик 7 330 егрюла школа адыл оценка 100 компания источник 2012 итог привлечение коммерсант партнёр существование год георгий тысяча доля основатель язык технология инвестиция яндекс\n",
      "2\thttp://firrma.ru/data/news/104259/\tосуществление россия аренда страна пространство александр трансфер география авиакомпания деятельность система автомобиль платформа холдинг авиаперевозка водитель сфера пресс частность сша расстояние великобритания средство бронирование сервис лицензия данные рф путешественник 13 присутствие 100 расширение компания область возможность обслуживание 2015 год тысяча использование служба мир цель инвестиция першиков\n",
      "3\thttp://firrma.ru/data/news/106495/\tмагазин молодая заём департамент одежда рекомендация 4 процент фонд 30 директор 11 качество игорь мероприятие таамазян тело лутец 2 начало предпринимательство средство миллион продажа человек применение резидент отбор частное ом матросов настоящее демидов тимати сувенир проведение комплект прошлое билет политика ангел 5 велосипед размер стадия сделка распоряжение ук эпиляция осень внедрение разработчик первое 3 приложение рубль развитие сумма бизнес область поддержка разработка управление лутц город производство константин вложение предприятие число прогноз учредитель миссия система электрификация стартап 12 доработка февраль михаил сиэрэм ритейл выпускник сервис 6 данные прошедшее ваге решение сайт тардис компания наука москва год исполнитель институт технология станислав фитнес инвестиция интернет 16 сооснователь апрель сколково сколтех рынок спорт подшивалов покупатель интеллект сфера организация вид проект сканирование оао 2017 посадка игра егрюла инвестор ритейлер плечо 8 время посевная возможность продукт 10 малое содействие синюшина\n",
      "4\thttp://firrma.ru/data/news/106475/\tмагазин 5 момент запуск интернет день предприниматель хафизов сделка 4 30 директор владимир маршрут ооо габарит типография право 1 март екатеринбург хафиз заказ поиск 75 история минута стартап 3 2 приложение 12 птичка инартис рустам доставка рубль миллион 2017 июль продажа сервис опцион клиент комиссия данные открытие 7 егрюла банк копия сентябрь сайт оценка область 8 компания сергей время цена партнёр 60 год публикация 43 москва черепанов посылка тысяча доля основатель 10 кобзев 200 маркетинг курьер\n",
      "5\thttp://firrma.ru/data/news/106505/\tприма разведка друг проектирование день общество база 90 95 вадим услуга 2 карьер лицо мирп сбор средство миллион ао продажа 13 1000 токен частное оплата 2019 площадка проведение спецназначение рамка рудник геологоразведка 5 унция километр отрасль месторождение представитель 27 стоимость оборудование площадь покупка руководитель владелец 415 предпродажа платформа 25 3 800 валюта содержание дирекция эстония согласование категория логистика участник 80 акционер цена месяц разработка николайчук документация конопелько 0 золото 9 край гендиректор район волна запуск вложение запас освоение предприятие право тонна система информация раунд 12 участие доработка февраль реконструкция лицензия июнь криптовалюта команда компания сергей актив инфраструктура год тысяча уровень 400 2006 среднее 1328 110 объект апрель организатор 250 1 заказ 35 проект привязка оао создатель 175 71 юг бумага инвестор 8 этап выкуп 10 32 недра маркетинг добыча работа цель менеджмент\n",
      "6\thttp://firrma.ru/data/news/98838/\tзадача люминнотех 4 фонд директор база выручка кузнецов наноцентр квартира конкурс 2 название миллион новое ао энергетика резидент дубна 2012 материал прибыль компетенция фгб центр контроль оптоэлектроника деньга борщев олег биотехнология партия представитель стадия сделка оборудование ооо деятельность ениколопов разработчик первое штаб николай развитие выход сумма химия сурина рубль продукция бизнес энергия 38 георгий структура 98 сенсор 2016 50 сигма обмен финансирование производство ход испм беспилотник союз результат агротехнология учредитель 2013 покрытие сцинтиллятор экзита 2010 стартап сеть слово пономаренко аэропорт 73 люминофор собственность квартал кластер команда компания наука сергей москва год 57 институт технология роснано люминотех фотоник 16 рана радиация сколково рынок волокно станция план проект излучение 2017 новосибирск лазер направление егрюла микроэлектроника устройство 8 партнёр создание 14 29 10 32 доля использование детектор 19 декабрь\n",
      "7\thttp://firrma.ru/data/news/105547/\tботэ 4 фонд 30 ответ услуга 2 инвест часть средство миллион новое продажа мальсургенов клиент павел канал аналитика рамка 750 ангел деньга ооо руководитель распоряжение платформа поиск разработчик развитие рубль сумма пакет обращение бизнес обработка 7 инициатива 24 поддержка разработка 20 03 9 гендиректор обмен 15 87 ит шаблон система показатель стартап сеть интерфейс потребитель дело usedeskкомпание сервис 6 июнь себестоимость сайт калмыков компания сергей год зураб мир катерина инвестиция будяков интернет транш капиталь пространство программа 02 1 40 2014 2017 почта мессенджер экс 04 будяк егрюла 8 достижение партнёр продукт виноходов доля основатель фрий работа\n",
      "8\thttp://firrma.ru/data/news/102698/\t5 заём интернет медиа сделка индустрия 30 условие апрель программа фонд акселератор страна организатор конференция 11 мероприятие платформа код услуга снг ирландия сфера стартап финтех казахстан окончание помощь организация вид проект приложение февраль ата добыча пользователь сумма июль энергетика сервис участник алма бизнес 7 2020 отбор акселерация инвестор материал трансляция переговоры 100 кластер компания соединение номер акция смартфон 01 ведение победитель год 500 тысяча прошлое 10 перевод коммерция среда язык технология 50 19 цель переработка выступление\n",
      "9\thttp://firrma.ru/data/news/105169/\tход сторона россия рост шамал условие директор ооо артур рынок аналитик интерес шамалов биржа деятельность игорь регулирование ресурс инвестирование перспектива раунд услуга медиа проект слово правило криптосообщество миллион ряд новое котировка сервис юрлицо бизнес игра инвестор доллар евгений команда формирование 100 компания разработка поддержка рубеж партнёр продукт тысяча криптоактив бридж управление портфель приоритет консультант ангел продвижение окатьев новость инвестиция\n",
      "10\thttp://firrma.ru/data/news/98713/\t5 президент задача интернет софт окно сотня представитель стадия график фонд грузоподъёмность маршрут счёт программа владимир терминал путин зрелость 1 автомобиль система март 2013 поиск минута инкассация стартап груз помощь проект миллиард десятка доставка работа подписка ситуация развитие миллион рубль алгоритм 2017 продажа средство сервис функционал клиент 6 бизнес данные степень отбор инициатива логист 100 компания 2015 поддержка обслуживание доведение zagкомпания год 300 ижевск основатель управление дорога приоритет портфель фрий маркетинг вместимость курьер 15 ограничение инвестиция\n",
      "11\thttp://firrma.ru/data/news/102624/\tмагазин прямая одежда телеканал чат поставщик мероприятие вакансия риска петербург обзвон услуга вариант нейротехнология перемена миллион алгоритм человек клиент трансляция очередь интервью центр менеджер автомойка контроль комплектация мощность стадия интро ростелеком планировка коммуникация конструктор случай реклама местомер лаборатория участник бизнес обработка поддержка предложение часы претендент корзина метраж персонал счёт 22 биржа система 2013 застройщик помощь изменение 97 стандарт ритейл сервис 6 данные коллега закупка решение журнал кадр год 400 еда выбор интернет проверка программа организатор 1 опрос март специалист бюро заказ профиль бюджет йошкара колл пешеход партнёр динамика курьер процесс кейтеринг тип ребёнок потенциал аналитик администратор опыт причина ошибка зона отбор оффлайне филиал оплата уфа среда рамка деньга аудитория портал соответствие мониторит статус звонок элемент стилист 17 платформа поиск 3 приложение преподаватель общение 300 управление путешествие расход регион обмен рабочий клавиша трафик cервис местонахождение автомобиль информация 12 пик доставка течение шопинга энкоста взлом сайт команда компания родитель посылка уровень мир инвестиция численность подготовка операция конференция инструмент фулфилмент задание минута 40 интеграция вид проект клуб новосибирск хранение открытие видеоблоггер аксессуар 8 время доведение житель фрий отслеживание аудитор образ 19 15 работа перемещение реальность симуляция фонд владимир база 11 ресторан лицо мойка средство продажа касса тур 13 санкт анализ распределение член электроэнергия 5 президент формат газета тренер стоимость жизнь 18 покупка акселератор владелец оповещение отклонение 25 тестирование груз рубль бухгалтер развитие оптимизация ирпилэнд поступление инициатива оценка обучение номер цена документация 9 получатель 1300 город возврат воронка телефон нагрузка подписчик число голос предмет стартап сеть режим агентство актив повышение уточнение квалификация абонент служба письмо 16 екатеринбург покупатель степень акселерация локация конкурент заключение выполнение передача жильё перечень 10 основатель новостройка цель задача защищенность движение отчёт 4 отправка товар 30 маршрут отработка качество порядок строительство квартира документ поставка 2 нахождение радиостанция каталог семья юрист недвижимость комплект путин зрелость список врач 324 расположение россия оборудование заполнение сутки код возникновение девелопер инфобот гардероб количество пользователь уязвимость штрих 7 здоровье 20 портфель сотрудник основа предприятие подарок красноярск адаптация собеседование напоминание раунд холодное робот информирование учёт пациент привлечение состав москва тысяча спрос точка совет объект пространство подсказка 21 терминал рынок работодатель набор дом помощник 2000 миллиард период вопрос ситуация диагноз мессенджер навык загруженность редакция подбор нарушение достижение 14 аудит рубеж помещение верификация\n",
      "12\thttp://firrma.ru/data/news/104424/\tинновация движение 4 хабов сообщество поездка маршрут чат касабланка мероприятие вариант предпринимательство миллион новое зона барселона погружение бангалор 2019 расширение минимум рамка модель россия представитель оборудование стоимость корпорация акселератор экскурсия велосипедист май геообработка квеста техника приложение мексика гардероб количество рубль третье предел оптимизация офис коммьюнить месяц эксперт управление активность бот обмен производство предприниматель счёт стартап подход помощь трекинг пища сервис режим дерево команда компания установка собеседник москва год идея станок технология мир точка страна экспресс программа 1 набор интегратор вариация хаб карбон проект выставка мессенджер рф открытие инвестор 8 время возможность продукт 10 температура использование 15 париж\n",
      "13\thttp://firrma.ru/data/news/104434/\tгруппа президент песня эмин предприниматель сделка машина телефон стоимость объект товар оквэда агаларов ооо вица учредитель витинскай фото деятельность автомобиль квартира платформа система бизнесмен дом дарья обеспечение певица автор проект слово доставка вопрос пользователь 2017 подробность новое музыкант пригожин сервис свопера клиент муж данные электроника егрюла направление недвижимость команда питание компания поддержка акция разработка происхождение продюсер год доля валерия певец станислав иосиф агалар обмен компьютер\n",
      "14\thttp://firrma.ru/data/news/105173/\tбренд конец телевидение капитал ребёнок пономинал фонд юрий директор квартира мтс мероприятие проникновение холдинг геолокация услуга 2 состязание соглашение миллион продажа евросеть касса пятёрка 2020 канал офлайна 100 билет оператор центр минин контроль 5 перепродажа размер россия сделка рост портал покупка ооо руководитель владелец деятельность 78 платформа 25 3 штаб дирекция приложение диверсификация театр рубль пользователь бронирование солонина пакет бизнес алексей игрок связь структура управление способ продвижение 50 концерт город викентий фестиваль группа результат счёт объединение ticketlandсистема том мдтзк система 495 представление основное 2010 сеть михаил механизм стандарт ряд сервис данные мюзикл сайт компания сергей актив акция москва год служба спектакль сторона интернет совет 21 рынок 1 организация доступ миллиард инвестор 8 доведение возможность отчётность основатель доля продавец цель менеджмент\n",
      "15\thttp://firrma.ru/data/news/105199/\t5 задача основа разговор гурин предприниматель представитель сделка сообщество фонд протокол база интерес владелец безопасность качество платформа задание интеллект раунд разработчик доход стартап 3 2 утечка помощь начало приложение проект развитие миллион эдуард маркировка применение человек российско участник бизнес офис ия обработка инвестор блокчейн частное батал решение журналист компания возможность платёж разработка час партнёр продукт создание год разметка этап датасет москва лео основатель рамка сотрудник технология мир точность финансирование\n",
      "16\thttp://firrma.ru/data/news/105670/\tмагазин 2007 4 символ выручка фото златкомбанк услуга утечка соглашение спарк миллион клиент черномор убыток минимум проведение прошлое центр 5 др ласкина сделка индустрия корпорация покупка ооо руководитель владелец распоряжение платформа финтех приложение наталья рубль лаборатория бизнес алексей 80 офис инфовотч интерфакс связь 20 место защита перевод 2016 управление роспатент 50 рбк сектор гендиректор знак группа предприниматель предприятие счёт держава 64 офшор банка куала система информация 59 карта атака 2003 453 касперский цб отзыв лицензия данные банк лумпур криптовалюта сергей компания актив платёж москва год тысяча нэклис обозначение 296 рынок безопасность дубай осадчук план проект центробанк 2017 экс хэндисолюшенс жкх открытие егрюла сентябрь заявка регистрация ренкинг продавец ноябрь\n",
      "17\thttp://firrma.ru/data/news/123897/\tсубпродукт процесс овощ фонд товар игорь роман закрытие миллион продажа павел частное площадка прошлое оператор 5 президент стадия злак фрукт январь ооо соинвестирование май платформа поиск дизайн разработчик консервы абрам пользователь сэм полуфабрикат трейдингтека кино портфель миллиардер 2015 контент фудтех мясо система аккредитация трейдинг стартап производитель февраль течение 771 сервис данные прошедшее закупка решение компания привлечение год технология мир служба инвестиция транш программа доска 1 март граница рыба проект 1657 рабецким 2017 экс клебанов акселерация инвестор возможность продукт переработчик киноплатформа 2018 морепродукт основатель работа торг\n",
      "18\thttp://firrma.ru/data/news/99667/\tбренд группа 5 основа интернет сооснователь россия взаимодействие размер остров сделка фонд директор ооо статистика распоряжение консалтинг эффективность платформа роман сфера интеллект груп артем сеть софтлайна соцсеть медиа агафонов инк проект слово средство развитие сумма инвестиция миллион сервис функционал 6 бенчмарка бизнес данные действие вычисление егрюла направление знание маркетолог аналитика конкурент компания 2012 азид 2008 продукт страница создание год этап 20 очередь среда масштабирование 42 технология образ активность 15 рубеж гендиректор кибербезопасность аудитория\n",
      "19\thttp://firrma.ru/data/news/111383/\tотрасль телекоммуникация василий дивайс ит индустрия 30 директор экспресс владелец консалтинг холдинг цуприк внедрение 40 25 маттиасу проект февраль томас развитие управдел энергетика энергоэффективность решение питание область компания варнига роснефть партнёр год создание прошлое продукт транспорт инжиниринг 50 хозяйство\n",
      "20\thttp://firrma.ru/data/news/103083/\tчек 5 интернет одежда вложение горелик представитель версия сделка фонд ооо учредитель качество джентрис 99 платформа соинвестор осень 35 фалдина стартап максим 3 25 12 начало проект декларация членство бутик миллион рубль средство развитие срок 7 марка егрюла инвестор аксессуар частное отбор 24 неточность расширение компания дмитрий месяц 500 год обувь совладелец 0 матрица ставка 50 новость 2015 финансирование\n",
      "21\thttp://firrma.ru/data/news/107289/\tекатерина задача тип конец ребёнок фонд директор технониколь 30 е игорь геолокация петербург услуга подписка предпринимательство средство миллион санкт принцип расширение посещение центр аудитория 5 модель момент россия представитель корпорация 18 ооо распоряжение деятельность платформа поиск филантропия приложение сегмент рубль количество развитие модернизация алексей присутствие инициатива оценка разработка хасанов поддержка елена публикация благотворительность предложение учреждение аналог активность город сектор гендиректор 2015 предприниматель число том кидкина сеть потребитель 12 курс режим сервис секция данные рыбаковеигорь компания инфраструктура родитель москва год тысяча совладелец институт маркетплейс инвестиция рыбак взрослый сооснователь апрель программа организатор 70 1 рыбаков организация проект занятие образование ускорение инвестор направление популяризация партнёр этап 2018 10 елизавета игор возраст\n",
      "22\thttp://firrma.ru/data/news/106184/\tмагазин прима база пример 2009 соцсеть ресторан 2 название сбор форка средство миллион новое человек борис токен кооператив расширение интервью 5 формат 18 январь секунда платформа код торговля 25 монета развитие количество сумма пользователь продукция 24 итог цена поддержка продвижение рабочий планка запуск основа фермер предприниматель том сеть потребитель производитель февраль размещение сервис 31 сайт журнал криптовалюта компания привлечение реализация год октябрь уровень токенсейль точка увеличение 16 интернет взаимодействие приобретение форум 1 покупатель затрата миллиард проект период сочи открытие блокчейн сентябрь 8 время аким партнёр 2018 основатель маркетинг хозяйство 15\n",
      "23\thttp://firrma.ru/data/news/102768/\tбренд день 4 директор база 90 95 холдинг вакансия островский 2 миллион человек просмотр 2004 100 источник посещение страница прошлое аудитория 5 россия киргизия сделка портал узбекистан 425 поиск снг 3 58 рубль пользователь сумма количество свет офис зарплата 7 алексей месяц коммерсант работник 500 портфель тагил 50 сотрудник регион группа учредитель информация резюме сеть слово прокофьев глава июль сервис 6 данные сайт евгений компания родитель год тысяча совладелец 400 сторона интернет страна 70 1 екатеринбург ресурс дом представительство антенна проект зао азербайджан 71 новосибирск 84 егрюла азия житель 200 ида работа\n",
      "24\thttp://firrma.ru/data/news/101173/\t5 эвакуация сделка машина александр фонд схема биомедицина 1 ремонт автомобиль 550 ведомость услуга авербах стартап объём проект миллиард михаил техосмотр рубль миллион 2017 ряд модернизация энергетика сервис спектр клиент бизнес данные глеб диагностика август степанов оценка 100 расширение дмитрий компания материал техобслуживание год создание тысяча 10 металлообработка приоритет сотрудник ангел машиностроение менеджер форсайт деньга производство яндекс\n",
      "25\thttp://firrma.ru/data/news/104579/\tуспех день 4 условие 30 владимир сценарий документ пофьер начало лицо миллион зрение 1000 токен принцип очередь видеонаблюдение список момент мощность множество покупка январь фаза элемент 108 секунда платформа поведение разработчик наблюдение корреспондент сегмент 152 участник область номер разработка 20 публикация 300 0 0872 основа основное нейросеть стартап сеть распознавание помощь февраль сервис вычисление компания привлечение год тысяча исследование технология роберт объект страна рынок март интеллект неудача план проект миллиард 2014 ситуация бел инвестор блокчейн видео камера 8 время 116245226 этап 2018 29 10 образ 15 обеспечение майнер\n",
      "26\thttp://firrma.ru/data/news/101168/\tзапись зал аналитик выручка 2009 европа ведомость эффект начало золотарев спарк миллион издание 100 центр афимолл аудитория формат россия ооо платформа снг разработчик количество пользователь сумма офис 7 игрок нейрогейминг присутствие популярность интерфакс худоян разработка дмитрий георгий место 36 2016 амстердам позиция город 2015 группа офшор 180 дмитрия стартап сеть расчёт сити 590 данные июнь сайт рубен компания год тысяча совладелец америка технология мир йорк инвестиция сторона сооснователь 16 рынок киберспорт проект 2014 видеоигра киберплатформа 2017 создатель игра азия парка 8 партнёр тренажёр 2018 основатель доля реальность\n",
      "27\thttp://firrma.ru/data/news/101557/\tточка контент основа сооснователь софт кусок ингрия земля объект фонд индустрия 21 январь сколково рынок 135 1 раскопка платформа поверхность петербург код разработчик стартап 3 слой 25 12 название проект слово люба мадрид 2014 инкубатор средство миллион сумма пользователь ряд зона развитие резидент сорина 39 ноябрь пилигрим бизнес санкт инвестор токен 650 сентябрь частное недвижимость 2019 компания цена привлечение диана месяц партнёр место год 2018 прошлое 10 тысяча 2016 экосистема доля рамка путешествие 50 центр мир город инвестиция обмен финансирование планка реальность\n",
      "28\thttp://firrma.ru/data/news/107027/\tзадача 4 фонд владимир чат упаковка поставщик 11 2 препарат средство миллион мединторг новое подробность вход отбор фармдистрибьютор прошлое путин зрелость олег президент врач 324 стадия сделка оборудование портал сутки рост 345 покупка акселератор 17 платформа поиск код 25 3 приложение лечение отношение развитие рубль пользователь бизнес здоровье лекарство трухан инициатива консультация дмитрий арсений поддержка елена 300 2016 управление портфель бот 2015 гендиректор результат проскуряков 2013 дмитрия раунд стартап помощь производитель слово февраль выпускник сервис функционал 6 июнь решение компания пациент год 43 тысяча совладелец власко инвестиция увеличение интернет необходимость шаталин 1 медустройство март заболевание 40 403 план окончание проект миллиард 85 степень диагностика 8 время посевная доведение 2018 доля основатель состояние фрий маркетинг мазница 15 специализация\n",
      "29\thttp://firrma.ru/data/news/103216/\tбренд 4 фонд товар 30 директор выручка европа холдинг опыт 2 сша солюшн средство миллион продажа андрей расширение материал 2012 аверьянов тираж размер стадия сделка рост ооо платформа анна математика разработчик 3 приложение дэвар школьник химия пакет продукция присутствие разработка коммерсант 36 гендиректор обмен производство контент запуск число учредитель физика стартап комиссаров ссылка лицензия данные сайт компания привлечение игрушка год тысяча 400 америка инвестиция сторона сооснователь страна рынок 70 сфера биология вид проект 2017 экземпляр егрюла азия доллар белов посевная продукт линейка основатель виталий использование язык рубеж реальность\n",
      "30\thttp://firrma.ru/data/news/99026/\tбренд запуск россия сделка такси александр директор сотрудничество база ооо учредитель амаяк переезд 1 ценообразование 17 информация заказ встреча 75 елян услуга стартап план 2 приложение 25 название доработка проект доставка тимошенко средство миллион развитие 2017 ряд сервис юрлицо июнь егрюла инвестор направление сайт переговоры компания 2015 возможность перевозка мувера москва продукт год создание 500 2016 основатель предложение узнаваемость работа инвестиция финансирование декабрь\n",
      "31\thttp://firrma.ru/data/news/105551/\tконец валерий стармарк директор электротранспорт 95 мероприятие средство миллион новое продажа тур офлайна 100 материал сезон проведение рамка авиа федцов центр оператор ангел 017870 олег 5 модель выпуск сделка ооо январь платформа поиск случай 3 приложение рубль пользователь сумма бронирование бизнес 80 евсеенковебизнес эксперт 2016 предложение 50 гендиректор 2015 производство ит число учредитель том система игнатов пивот раунд помощь июль сервис лицензия 6 данные конвертация решение кампания компания сергей год октябрь тысяча чек выбор пространство федцы туроператор проект маркировка 2017 юлия егрюла инвестор направление евсеенков промтех релиз 2018 10 доля изделие декабрь\n",
      "32\thttp://firrma.ru/data/news/103984/\tмагазин конец капитал якубсон директор пётр выручка фото класс ведомость медиа 2 спарк лев илья миллион новое клиент андрей вкусвилл газпром убыток лента аналитика расширение источник 626 ангел контроль федченков деньга др ритейлера президент россия представитель сделка сбербанк альберт корпорация 18 ооо руководитель распоряжение хасис реклама объём пул сагирян развитие рубль сумма солонина пакет бизнес питание дмитрий правление место 20 структура 2016 продвижение 9 гендиректор 611 ход результат 64 информация 2013 дмитрия 12 производитель слово доставка факт ссылка ритейл дикси сервис режим инстамарт данные 31 закупка журналист компания сергей акция год председатель еда инвестиция карусель сооснователь медиахолдинг версия совет заказ скидка подключение петра 2017 экс инвестор ритейлер подразделение заместитель партнёр продукт реестр 10 доля основатель жулин работа\n",
      "33\thttp://firrma.ru/data/news/106202/\t2007 фонд товар игорь квартира штат кэшбэк услуга лутец 2 агрегатор миллион человек ритейлом анализ газиз ангел 5 37 рил сделка идентификация вертикаль ооо газизов 78 платформа фарид код разработчик доход штаб рубль развитие количество пользователь бизнес штрих кипр питание номер цена месяц 20 2016 сотрудник группа константин подписчик телефон проджектс 22 информация 2013 стартап эмбриа распознавание производитель ряд сервис функционал режим данные август команда агентство компания год тысяча технология инвестиция тайм чек интернет 110 рынок сравнение март покупатель груп план проект 2017 егрюла переговоры продукт 14 10 основатель портфолио синюшина\n",
      "34\thttp://firrma.ru/data/news/105425/\tбренд группа россия оборот сделка рост ит 27 счёт 51 директор александр приобретение объединение поставщик темп безопасность рынок ооо скайсофт бухарин 1 99 консалтинг кирилл солодовник холдинг виктория обеспечение сфера услуга пресс кривенков интеграция снг инфосекьюрити 2010 брокер лицензирование организация миллиард индия подробность продажа сервис спектр входящая 49 бизнес усиление открытие азия решение присутствие криминалистика команда боровиков расширение компания сергей итог акционер 60 год структура 10 2016 управление портфель провайдер рамка ирина 0 центр америка служба контроль менеджер позиция цель гендиректор кибербезопасность\n",
      "35\thttp://firrma.ru/data/news/103069/\tбренд 5 сделка 30 рекламодатель фонд покупка база рынок аккаунт биржа система март платформа информация поиск реклама сеть 25 проект февраль сегмент блогер пользователь инвестиция 2017 миллион продажа рубль 6 данные сентябрь 150 команда 100 компания возможность год 2018 тысяча прошлое менеджер позиция работа 2015\n",
      "36\thttp://firrma.ru/data/news/99929/\t5 вэб инновация внешэкономбанк основа запуск осуществление россия день президент 4 испытание зарубежье фонд страна программа ооо вица сколково рынок кирилл поставка соинвестор компо пресс сеть представительство помощь организация производитель проект 2014 рубль миллион чернила выход булат клиент грант квартал инициатива переговоры производство компания поддержка рубеж 20 год экспертиза 2018 200 рамка технология служба ценник инвестиция лизинг\n",
      "37\thttp://firrma.ru/data/news/105538/\tбренд конец 4 капитал фонд директор 30 выручка игорь мастер медведев документ трансформация светлана услуга медиа 2 преимущество средство миллион комиссия отличие groupооо частное офлайна 2019 никита фокус заработок менеджер биллинг контроль окрашивание 5 студио момент клюкин россия депиляция стадия сделка студия вертикаль рост такси индустрия ооо январь владелец дискаунтер май 25 3 приложение лида развитие рубль сумма алексей оценка туризм обучение филипп коммерсант 500 публикация 20 аналог 9 2015 группа раз запуск константин таврина 2022 академия результат учредитель частота шелли педикюр сохранение система информация раунд стартап максим труд февраль доставка стс красота сертификат ряд бровь сервис решение иван компания 2008 год тысяча 400 технология еда мир инвестиция чек оборот темп рынок киберспорт лиходед 1 март кисмет заказ гладков репешко финансы дом 40 сфера геосервис интеллект груп проект миллиард маникюр 2014 образование 2017 создатель юрлицо игра егрюла инвестор блокчейн коррекция ушаков посевная продукт 60 2018 10 доля основатель использование соприкосновение 15\n",
      "38\thttp://firrma.ru/data/news/106416/\tядро магазин точка казань 5 момент интернет сооснователь транш конец стадия оборот 4 рост 51 получение сухоруков фонд скоринг покупка ооо трансфер ответ 1 критерий платформа поиск минута сфера раунд торговля стартап финтех 2 3 первое проект течение рубль миллион страховка 2017 анкета андеррайтинг развитие сервис клиент юрлицо 49 алексей бизнес 6 министерство банк егрюла отбор евгений область 100 компания установка поддержка месяц партнёр 20 год минимум 300 содействие сотрудник центр технология таранов инвестиция финансирование кредит компьютер\n",
      "39\thttp://firrma.ru/data/news/99477/\tсамоокупаемость дистрибуция руководство основа 1с1с гостиница процесс версия сделка счёт поездка директор программа база поставщик ооо аналитик рынок выручка ткаченко 11 порядок деталь господин партнерство помощник пресс доход стартап максим сеть 3 мнение услуга проект труд слово командировка рубль миллион средство глава франчайзь продажа 2017 бронирование сервис пакет клиент функционал бизнес комиссия данные блок борис нуралиев автоматизация smartwayкомпание инна туризм 100 компания источник исключение отель поддержка коммерсант разработка год октябрь 300 билет малое 2016 назначение основатель доля 0 среднее служба 150 бот смартвэй\n",
      "40\thttp://firrma.ru/data/news/102446/\t34 эфекс формат президент основа проектирование россия предприниматель чехия объект александр площадь база ооо физтехпарк системс 1 деятельность метр моделирование платформа холдинг история ручей эксплуатация дом крикун разработчик организация проект миллиард пик австрия рубль существование миллион средство германия цикл сложность данные гендиректор недвижимость мортон интерфакс акционер компания год этап прошлое технопарк 2016 девелопмент 400 основатель 50 девелоперо 2015\n",
      "41\thttp://firrma.ru/data/news/103066/\tэкспедитор константин россия процесс предприниматель представитель дерябин автозаём директор контейнер рынок специалист европа фрахт запрос стартап 2 12 агрегатор евдаков февраль зиновьев рубль антон миллион развитие пользователь логистика глава 2017 сервис клиент усиление данные 7 андрей инвестор автоматизация сайт команда перевозчик компания год тысяча усовершенствование основатель маркетинг технология линия скандинавия деньга\n",
      "42\thttp://firrma.ru/data/news/105667/\tбренд процесс 4 афиша фонд александр технониколь выручка понедельник фотография игорь мероприятие мтс ведомость инкубатор средство миллион мордашов новое продажа человек икра клиент комиссия 100 единица билет эквивалент рамка центр оператор момент россия представитель сделка павлов соответствие ниша покупка ооо деятельность премия людмила дизайн реклама снг консорциум 25 3 мышление событие рубль развитие оптимизация солонина бизнес алексей стратегия люмьер месяц связь структура 2016 кино управление способ продвижение 15 музей результат академия мдтзк информация показатель перспектива 2010 стартап десяток помощь слово февраль выпускник сервис данные решение команда компания сергей северсталь 2008 год тысяча совладелец институт доходность технология экономика фролов инвестиция сторона сооснователь солонинесергей интернет страна сколково организатор 250 рынок 1 стрелка 40 рыбаков интеграция организация проект миллиард 2014 2017 пикник инвестор брат блокчейн доллар школа возможность партнёр этап 10 основатель доля принятие речь 122 половина\n",
      "43\thttp://firrma.ru/data/news/98600/\tмагазин группа интернет день мощность шанхай 4 фонд площадь 21 число дск строительство территория метр комплекс 130 фулфилмент заказ осень сфера услуга капинвест финтех приложение орлов дочка проект реконструкция тюмень часть выход миллион 2017 ряд тасс клиент спектр июнь андрей август инвестор блокчейн парк автоматизация криптовалюта 2019 область гонконг компания итог разработка 500 год тысяча коммерция перевод рамка оснащение 50 хаба технология расход работа инвестиция помещение\n",
      "44\thttp://firrma.ru/data/news/100092/\tмагазин задача вложение геймификация процесс трафик релокация портал фонд сценарий чат основание элемент руководитель система информация платформа документ ресурс заказ форма конструктор раунд интеграция стартап приложение помощь доработка проект доставка средство календарь сервис функционал клиент рейтинг коллега блок грант решение оценка команда 100 область компания поддержка достижение партнёр заявка создание генерация тысяча объявление коммерция кастомизация рамка механик механика маркетинг сотрудник маркетплейс настройка новость инвестиция\n",
      "\n"
     ]
    }
   ],
   "source": [
    "import numpy as np\n",
    "tmp_sort_list = []\n",
    "tmp_str = \"\"\n",
    "for index, value in enumerate(sims_list):\n",
    "  tmp_str = tmp_str + str(index) + '\\t' + str(LINKS[index]) + \"\\t\" + str(texts[index]) + \"\\n\"\n",
    "  tmp_sort_list.append(round(max(value), 5))\n",
    "print('#\\tССЫЛКА \\t\\t\\t\\t\\tСЛОВА ИЗ СТАТЬИ')\n",
    "print(tmp_str)"
   ]
  },
  {
   "cell_type": "code",
   "execution_count": 0,
   "metadata": {
    "colab": {},
    "colab_type": "code",
    "id": "gxXJPOEnAtWr"
   },
   "outputs": [],
   "source": []
  }
 ],
 "metadata": {
  "colab": {
   "collapsed_sections": [],
   "name": "my_project.ipynb",
   "provenance": [],
   "version": "0.3.2"
  },
  "kernelspec": {
   "display_name": "Python 3",
   "language": "python",
   "name": "python3"
  },
  "language_info": {
   "codemirror_mode": {
    "name": "ipython",
    "version": 3
   },
   "file_extension": ".py",
   "mimetype": "text/x-python",
   "name": "python",
   "nbconvert_exporter": "python",
   "pygments_lexer": "ipython3",
   "version": "3.7.3"
  }
 },
 "nbformat": 4,
 "nbformat_minor": 1
}
